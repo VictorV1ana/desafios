{
  "nbformat": 4,
  "nbformat_minor": 0,
  "metadata": {
    "colab": {
      "name": "Prova GQ - Victor.ipynb",
      "provenance": [],
      "collapsed_sections": [],
      "toc_visible": true,
      "mount_file_id": "1I0CFmxxkxMI9xyQ5YVp0TXxYOvlxRUAI",
      "authorship_tag": "ABX9TyNzgm2MZRLPRoGIZrQg00gD",
      "include_colab_link": true
    },
    "kernelspec": {
      "name": "python3",
      "display_name": "Python 3"
    },
    "language_info": {
      "name": "python"
    }
  },
  "cells": [
    {
      "cell_type": "markdown",
      "metadata": {
        "id": "view-in-github",
        "colab_type": "text"
      },
      "source": [
        "<a href=\"https://colab.research.google.com/github/VictorV1ana/desafios/blob/main/Prova_GQ_Victor.ipynb\" target=\"_parent\"><img src=\"https://colab.research.google.com/assets/colab-badge.svg\" alt=\"Open In Colab\"/></a>"
      ]
    },
    {
      "cell_type": "markdown",
      "metadata": {
        "id": "D9UJ1n_PbTsL"
      },
      "source": [
        "## PROVA GQ - VICTOR VIANA"
      ]
    },
    {
      "cell_type": "code",
      "metadata": {
        "id": "8nVkWuCAFWXc"
      },
      "source": [
        "# importar pacotes\n",
        "import pandas as pd \n",
        "import numpy as np\n",
        "import matplotlib.pyplot as plt \n",
        "import seaborn as sns\n",
        "from matplotlib.ticker import PercentFormatter\n",
        "# supress warnings\n",
        "import warnings\n",
        "warnings.filterwarnings('ignore')\n",
        "%matplotlib inline "
      ],
      "execution_count": 1,
      "outputs": []
    },
    {
      "cell_type": "markdown",
      "metadata": {
        "id": "GBOitpaAbk56"
      },
      "source": [
        "### Questão 1  \n",
        "\n",
        "**Resposta da Questão**\n",
        "\n",
        "> A questão foi feita pelo bizaggi e esta nos anexos no classroom."
      ]
    },
    {
      "cell_type": "markdown",
      "metadata": {
        "id": "i_6phSiqIPKM"
      },
      "source": [
        "### Questão 2  \n",
        "\n",
        "**Resposta da Questão**\n",
        "\n",
        "> Pelo uso da matriz GUT, pode-se afirmar que a ordem de prioridade é 5-3-2-4-1. \n",
        "**Alternativa A.** \n",
        "\n"
      ]
    },
    {
      "cell_type": "code",
      "metadata": {
        "colab": {
          "base_uri": "https://localhost:8080/",
          "height": 232
        },
        "id": "qQO45RATF9Hv",
        "outputId": "b8befb36-201b-473a-97e8-6dd1b1622f34"
      },
      "source": [
        "#criando dataframe\n",
        "df2 = pd.DataFrame({\"G\":[5, 3, 5, 5, 5],\n",
        "                   \"U\":[4, 3, 5, 5, 5],\n",
        "                   \"T\":[1, 3, 2, 1, 5]})\n",
        "df2['Pontos Fracos'] = [1,2,3,4,5]\n",
        "df2.set_index(df2['Pontos Fracos'], inplace=True)\n",
        "df2.drop(columns=['Pontos Fracos'],axis=1,inplace=True)\n",
        "\n",
        "# calculo da prioridade \n",
        "df2['prioridade'] = df2['G']*df2['U']*df2['T']\n",
        "df2.sort_values(by='prioridade',ascending=False)"
      ],
      "execution_count": 2,
      "outputs": [
        {
          "output_type": "execute_result",
          "data": {
            "text/html": [
              "<div>\n",
              "<style scoped>\n",
              "    .dataframe tbody tr th:only-of-type {\n",
              "        vertical-align: middle;\n",
              "    }\n",
              "\n",
              "    .dataframe tbody tr th {\n",
              "        vertical-align: top;\n",
              "    }\n",
              "\n",
              "    .dataframe thead th {\n",
              "        text-align: right;\n",
              "    }\n",
              "</style>\n",
              "<table border=\"1\" class=\"dataframe\">\n",
              "  <thead>\n",
              "    <tr style=\"text-align: right;\">\n",
              "      <th></th>\n",
              "      <th>G</th>\n",
              "      <th>U</th>\n",
              "      <th>T</th>\n",
              "      <th>prioridade</th>\n",
              "    </tr>\n",
              "    <tr>\n",
              "      <th>Pontos Fracos</th>\n",
              "      <th></th>\n",
              "      <th></th>\n",
              "      <th></th>\n",
              "      <th></th>\n",
              "    </tr>\n",
              "  </thead>\n",
              "  <tbody>\n",
              "    <tr>\n",
              "      <th>5</th>\n",
              "      <td>5</td>\n",
              "      <td>5</td>\n",
              "      <td>5</td>\n",
              "      <td>125</td>\n",
              "    </tr>\n",
              "    <tr>\n",
              "      <th>3</th>\n",
              "      <td>5</td>\n",
              "      <td>5</td>\n",
              "      <td>2</td>\n",
              "      <td>50</td>\n",
              "    </tr>\n",
              "    <tr>\n",
              "      <th>2</th>\n",
              "      <td>3</td>\n",
              "      <td>3</td>\n",
              "      <td>3</td>\n",
              "      <td>27</td>\n",
              "    </tr>\n",
              "    <tr>\n",
              "      <th>4</th>\n",
              "      <td>5</td>\n",
              "      <td>5</td>\n",
              "      <td>1</td>\n",
              "      <td>25</td>\n",
              "    </tr>\n",
              "    <tr>\n",
              "      <th>1</th>\n",
              "      <td>5</td>\n",
              "      <td>4</td>\n",
              "      <td>1</td>\n",
              "      <td>20</td>\n",
              "    </tr>\n",
              "  </tbody>\n",
              "</table>\n",
              "</div>"
            ],
            "text/plain": [
              "               G  U  T  prioridade\n",
              "Pontos Fracos                     \n",
              "5              5  5  5         125\n",
              "3              5  5  2          50\n",
              "2              3  3  3          27\n",
              "4              5  5  1          25\n",
              "1              5  4  1          20"
            ]
          },
          "metadata": {
            "tags": []
          },
          "execution_count": 2
        }
      ]
    },
    {
      "cell_type": "markdown",
      "metadata": {
        "id": "nRNvK4_bIv0o"
      },
      "source": [
        "### Questão 3  \n",
        "\n",
        "\n",
        "**Resposta da Questão**\n",
        "\n",
        "> Pelo gráfico abaixo, pode-se afirmar que segundo Pareto a prioridade de resolução de problemas deve ser C, B, A, D, F, E. Entretanto, a empresa deve focar nos erros de Falha na inspeção técnica(C), Falha na Montagem (B) e Erro na pintura (A), tendo em vista que representam aproximadamente 80% dos erros."
      ]
    },
    {
      "cell_type": "code",
      "metadata": {
        "colab": {
          "base_uri": "https://localhost:8080/",
          "height": 232
        },
        "id": "JiHRmyqJI-BB",
        "outputId": "cb5e01e1-946e-4c4b-a957-000101b3053e"
      },
      "source": [
        "# criar dataset \n",
        "df1 = pd.DataFrame({'marco': [36.0, 55.0, 96.0, 25.0, 10.0, 18.0]})\n",
        "# nomear os erros \n",
        "df1.index = ['A', 'B', 'C', 'D', 'E', 'F']\n",
        "# ordenar por valores de marco\n",
        "df1 = df1.sort_values(by='marco',ascending=False)\n",
        "# calcular porcentagem cumulativa\n",
        "df1[\"percentcumu\"] = round(df1[\"marco\"].cumsum()/df1[\"marco\"].sum()*100,2)\n",
        "df1"
      ],
      "execution_count": 3,
      "outputs": [
        {
          "output_type": "execute_result",
          "data": {
            "text/html": [
              "<div>\n",
              "<style scoped>\n",
              "    .dataframe tbody tr th:only-of-type {\n",
              "        vertical-align: middle;\n",
              "    }\n",
              "\n",
              "    .dataframe tbody tr th {\n",
              "        vertical-align: top;\n",
              "    }\n",
              "\n",
              "    .dataframe thead th {\n",
              "        text-align: right;\n",
              "    }\n",
              "</style>\n",
              "<table border=\"1\" class=\"dataframe\">\n",
              "  <thead>\n",
              "    <tr style=\"text-align: right;\">\n",
              "      <th></th>\n",
              "      <th>marco</th>\n",
              "      <th>percentcumu</th>\n",
              "    </tr>\n",
              "  </thead>\n",
              "  <tbody>\n",
              "    <tr>\n",
              "      <th>C</th>\n",
              "      <td>96.0</td>\n",
              "      <td>40.00</td>\n",
              "    </tr>\n",
              "    <tr>\n",
              "      <th>B</th>\n",
              "      <td>55.0</td>\n",
              "      <td>62.92</td>\n",
              "    </tr>\n",
              "    <tr>\n",
              "      <th>A</th>\n",
              "      <td>36.0</td>\n",
              "      <td>77.92</td>\n",
              "    </tr>\n",
              "    <tr>\n",
              "      <th>D</th>\n",
              "      <td>25.0</td>\n",
              "      <td>88.33</td>\n",
              "    </tr>\n",
              "    <tr>\n",
              "      <th>F</th>\n",
              "      <td>18.0</td>\n",
              "      <td>95.83</td>\n",
              "    </tr>\n",
              "    <tr>\n",
              "      <th>E</th>\n",
              "      <td>10.0</td>\n",
              "      <td>100.00</td>\n",
              "    </tr>\n",
              "  </tbody>\n",
              "</table>\n",
              "</div>"
            ],
            "text/plain": [
              "   marco  percentcumu\n",
              "C   96.0        40.00\n",
              "B   55.0        62.92\n",
              "A   36.0        77.92\n",
              "D   25.0        88.33\n",
              "F   18.0        95.83\n",
              "E   10.0       100.00"
            ]
          },
          "metadata": {
            "tags": []
          },
          "execution_count": 3
        }
      ]
    },
    {
      "cell_type": "code",
      "metadata": {
        "colab": {
          "base_uri": "https://localhost:8080/",
          "height": 408
        },
        "id": "O0P6ErbgJPza",
        "outputId": "0ccfffc4-1ed1-4199-b41a-348b18195289"
      },
      "source": [
        "# setar tamanho do grafico\n",
        "fig, ax = plt.subplots(figsize=(14,6))\n",
        "\n",
        "# plot de grafico de barras\n",
        "ax.bar(df1.index, df1[\"marco\"])\n",
        "ax.set_title(\"Gráfico de Pareto - Erros\",fontsize=16)\n",
        "ax.set_xlabel(\"Tipo de Erro\",fontsize=12)\n",
        "ax.set_ylabel(\"Frequencia\",fontsize=12);\n",
        "\n",
        "# grafico de porcentagem \n",
        "ax2 = ax.twinx()\n",
        "ax2.plot(df1.index, df1[\"percentcumu\"], color=\"red\", marker=\"D\", ms=7)\n",
        "\n",
        "# linha de 80%\n",
        "ax2.axhline(80, color=\"orange\", linestyle=\"dashed\")\n",
        "ax2.yaxis.set_major_formatter(PercentFormatter())\n",
        "ax2.set_ylabel(\"% acumulada\",fontsize=12);"
      ],
      "execution_count": 4,
      "outputs": [
        {
          "output_type": "display_data",
          "data": {
            "image/png": "[encoded data removed]",
            "text/plain": [
              "<Figure size 1008x432 with 2 Axes>"
            ]
          },
          "metadata": {
            "tags": [],
            "needs_background": "light"
          }
        }
      ]
    },
    {
      "cell_type": "markdown",
      "metadata": {
        "id": "_4KykgToLjxf"
      },
      "source": [
        "### Questão 4 \n",
        "\n",
        "\n",
        "**Resposta da Questão**\n",
        "\n",
        "> Pela análise do boxplot, o fornecedor B tem menor média e mediana. Além disso, sua sistribuição tem menor variância. Nesse sentido, ele é o melhor fornecedor."
      ]
    },
    {
      "cell_type": "code",
      "metadata": {
        "id": "pKkXqqfhJ8Mk"
      },
      "source": [
        "#criar dataset de cada fornecedor\n",
        "fornecedor_a = pd.DataFrame({'Preco': [155,154, 127, 121, 167, 178, 123,136,\n",
        "                                       146,170],\n",
        "                             'Prazo': [45,53,61,66,34,17,38,27,55,32],})\n",
        "fornecedor_a['Fornecedor'] = \"A\"\n",
        "\n",
        "\n",
        "fornecedor_b = pd.DataFrame({'Preco': [125,117, 122, 115, 137, 152, 146,134,\n",
        "                                       112,127],\n",
        "                             'Prazo': [33,36,65,45,30,55,35,25,45,40],})\n",
        "fornecedor_b['Fornecedor'] = \"B\"\n",
        "\n",
        "fornecedor_c = pd.DataFrame({'Preco': [145,128, 135, 156, 120, 135, 140,129,\n",
        "                                       125,157],\n",
        "                             'Prazo': [28,25,36,27,45,27,29,65,54,38],})\n",
        "fornecedor_c['Fornecedor'] = \"C\"\n",
        "\n",
        "# juntar dados em um unico dataset \n",
        "df = pd.concat([fornecedor_a,fornecedor_b,fornecedor_c])"
      ],
      "execution_count": 5,
      "outputs": []
    },
    {
      "cell_type": "code",
      "metadata": {
        "colab": {
          "base_uri": "https://localhost:8080/",
          "height": 351
        },
        "id": "gByvjj5DOzBU",
        "outputId": "003e1078-c21a-4888-ae83-349bb6cecd9a"
      },
      "source": [
        "sns.set_style(\"darkgrid\")\n",
        "fig,ax = plt.subplots(figsize=(8,5))\n",
        "sns.boxplot(x='Fornecedor', y='Preco', data=df,palette=\"Set2\")\n",
        "plt.title('Box-Plot de Preços', fontsize=14)\n",
        "plt.show()"
      ],
      "execution_count": 6,
      "outputs": [
        {
          "output_type": "display_data",
          "data": {
            "image/png": "[encoded data removed]",
            "text/plain": [
              "<Figure size 576x360 with 1 Axes>"
            ]
          },
          "metadata": {
            "tags": []
          }
        }
      ]
    },
    {
      "cell_type": "code",
      "metadata": {
        "colab": {
          "base_uri": "https://localhost:8080/",
          "height": 351
        },
        "id": "WECH6xg7PSst",
        "outputId": "50693436-40b3-4f22-a8a9-6c43606eefc5"
      },
      "source": [
        "fig,ax = plt.subplots(figsize=(8,5))\n",
        "sns.boxplot(x='Fornecedor', y='Prazo', data=df,palette=\"Set2\")\n",
        "plt.title('Box-Plot de Prazo', fontsize=14)\n",
        "plt.show()"
      ],
      "execution_count": 7,
      "outputs": [
        {
          "output_type": "display_data",
          "data": {
            "image/png": "[encoded data removed]",
            "text/plain": [
              "<Figure size 576x360 with 1 Axes>"
            ]
          },
          "metadata": {
            "tags": []
          }
        }
      ]
    },
    {
      "cell_type": "markdown",
      "metadata": {
        "id": "akPhOVWBRnmW"
      },
      "source": [
        "### Questão 5 - 9 \n",
        "\n",
        "5 -B\n",
        "\n",
        "6 - B \n",
        "\n",
        "7 - B \n",
        "\n",
        "8 - D \n",
        "\n",
        "9 - B"
      ]
    }
  ]
}