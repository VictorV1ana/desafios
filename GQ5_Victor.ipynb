{
  "nbformat": 4,
  "nbformat_minor": 0,
  "metadata": {
    "colab": {
      "name": "GQ5-Victor.ipynb",
      "provenance": [],
      "toc_visible": true,
      "authorship_tag": "ABX9TyOc9JKFTZQMfKScg94OMR8A",
      "include_colab_link": true
    },
    "kernelspec": {
      "name": "python3",
      "display_name": "Python 3"
    },
    "language_info": {
      "name": "python"
    }
  },
  "cells": [
    {
      "cell_type": "markdown",
      "metadata": {
        "id": "view-in-github",
        "colab_type": "text"
      },
      "source": [
        "<a href=\"https://colab.research.google.com/github/VictorV1ana/desafios/blob/main/GQ5_Victor.ipynb\" target=\"_parent\"><img src=\"https://colab.research.google.com/assets/colab-badge.svg\" alt=\"Open In Colab\"/></a>"
      ]
    },
    {
      "cell_type": "markdown",
      "metadata": {
        "id": "m7_bo8fegUrn"
      },
      "source": [
        "## Teste 5 - Victor Viana\n"
      ]
    },
    {
      "cell_type": "code",
      "metadata": {
        "id": "WCgcpQMLa99h"
      },
      "source": [
        "#importar pacotes\n",
        "import pandas as pd \n",
        "import numpy as np \n",
        "import seaborn as sns \n",
        "import matplotlib.pyplot as plt \n",
        "from matplotlib.ticker import PercentFormatter\n",
        "\n",
        "%matplotlib inline "
      ],
      "execution_count": 13,
      "outputs": []
    },
    {
      "cell_type": "markdown",
      "metadata": {
        "id": "eEIVG2xdgoUn"
      },
      "source": [
        "### 1.Preparar os Dados"
      ]
    },
    {
      "cell_type": "code",
      "metadata": {
        "id": "9uFpRjjgbqcW"
      },
      "source": [
        "# criar dataset \n",
        "df = pd.DataFrame({'fevereiro': [24.0,16.0, 32.0, 10.0, 2.0, 1.0],\n",
        "                   'marco': [22.0, 18.0, 54.0, 14.0, 15.0, 5.0]})\n",
        "# nomear os erros \n",
        "df.index = ['A', 'B', 'C', 'D', 'E', 'F']\n",
        "\n",
        "df"
      ],
      "execution_count": 3,
      "outputs": []
    },
    {
      "cell_type": "markdown",
      "metadata": {
        "id": "yYbzNCx5gwfD"
      },
      "source": [
        "### 2.Calculos\n"
      ]
    },
    {
      "cell_type": "code",
      "metadata": {
        "colab": {
          "base_uri": "https://localhost:8080/",
          "height": 232
        },
        "id": "59yxN-EbdIgn",
        "outputId": "31909816-dccd-4253-a701-90e611c3ad24"
      },
      "source": [
        "# calcular o taltal de erros\n",
        "df['Total'] = df['fevereiro'] + df['marco'] \n",
        "df"
      ],
      "execution_count": 5,
      "outputs": [
        {
          "output_type": "execute_result",
          "data": {
            "text/html": [
              "<div>\n",
              "<style scoped>\n",
              "    .dataframe tbody tr th:only-of-type {\n",
              "        vertical-align: middle;\n",
              "    }\n",
              "\n",
              "    .dataframe tbody tr th {\n",
              "        vertical-align: top;\n",
              "    }\n",
              "\n",
              "    .dataframe thead th {\n",
              "        text-align: right;\n",
              "    }\n",
              "</style>\n",
              "<table border=\"1\" class=\"dataframe\">\n",
              "  <thead>\n",
              "    <tr style=\"text-align: right;\">\n",
              "      <th></th>\n",
              "      <th>fevereiro</th>\n",
              "      <th>marco</th>\n",
              "      <th>Total</th>\n",
              "    </tr>\n",
              "  </thead>\n",
              "  <tbody>\n",
              "    <tr>\n",
              "      <th>A</th>\n",
              "      <td>24.0</td>\n",
              "      <td>22.0</td>\n",
              "      <td>46.0</td>\n",
              "    </tr>\n",
              "    <tr>\n",
              "      <th>B</th>\n",
              "      <td>16.0</td>\n",
              "      <td>18.0</td>\n",
              "      <td>34.0</td>\n",
              "    </tr>\n",
              "    <tr>\n",
              "      <th>C</th>\n",
              "      <td>32.0</td>\n",
              "      <td>54.0</td>\n",
              "      <td>86.0</td>\n",
              "    </tr>\n",
              "    <tr>\n",
              "      <th>D</th>\n",
              "      <td>10.0</td>\n",
              "      <td>14.0</td>\n",
              "      <td>24.0</td>\n",
              "    </tr>\n",
              "    <tr>\n",
              "      <th>E</th>\n",
              "      <td>2.0</td>\n",
              "      <td>15.0</td>\n",
              "      <td>17.0</td>\n",
              "    </tr>\n",
              "    <tr>\n",
              "      <th>F</th>\n",
              "      <td>1.0</td>\n",
              "      <td>5.0</td>\n",
              "      <td>6.0</td>\n",
              "    </tr>\n",
              "  </tbody>\n",
              "</table>\n",
              "</div>"
            ],
            "text/plain": [
              "   fevereiro  marco  Total\n",
              "A       24.0   22.0   46.0\n",
              "B       16.0   18.0   34.0\n",
              "C       32.0   54.0   86.0\n",
              "D       10.0   14.0   24.0\n",
              "E        2.0   15.0   17.0\n",
              "F        1.0    5.0    6.0"
            ]
          },
          "metadata": {
            "tags": []
          },
          "execution_count": 5
        }
      ]
    },
    {
      "cell_type": "code",
      "metadata": {
        "colab": {
          "base_uri": "https://localhost:8080/",
          "height": 232
        },
        "id": "MrlpSEj1dLhS",
        "outputId": "ed9db761-f513-4418-f156-f72ea7f8f163"
      },
      "source": [
        "# ordenar por Total\n",
        "df = df.sort_values(by='Total',ascending=False)\n",
        "df"
      ],
      "execution_count": 7,
      "outputs": [
        {
          "output_type": "execute_result",
          "data": {
            "text/html": [
              "<div>\n",
              "<style scoped>\n",
              "    .dataframe tbody tr th:only-of-type {\n",
              "        vertical-align: middle;\n",
              "    }\n",
              "\n",
              "    .dataframe tbody tr th {\n",
              "        vertical-align: top;\n",
              "    }\n",
              "\n",
              "    .dataframe thead th {\n",
              "        text-align: right;\n",
              "    }\n",
              "</style>\n",
              "<table border=\"1\" class=\"dataframe\">\n",
              "  <thead>\n",
              "    <tr style=\"text-align: right;\">\n",
              "      <th></th>\n",
              "      <th>fevereiro</th>\n",
              "      <th>marco</th>\n",
              "      <th>Total</th>\n",
              "    </tr>\n",
              "  </thead>\n",
              "  <tbody>\n",
              "    <tr>\n",
              "      <th>C</th>\n",
              "      <td>32.0</td>\n",
              "      <td>54.0</td>\n",
              "      <td>86.0</td>\n",
              "    </tr>\n",
              "    <tr>\n",
              "      <th>A</th>\n",
              "      <td>24.0</td>\n",
              "      <td>22.0</td>\n",
              "      <td>46.0</td>\n",
              "    </tr>\n",
              "    <tr>\n",
              "      <th>B</th>\n",
              "      <td>16.0</td>\n",
              "      <td>18.0</td>\n",
              "      <td>34.0</td>\n",
              "    </tr>\n",
              "    <tr>\n",
              "      <th>D</th>\n",
              "      <td>10.0</td>\n",
              "      <td>14.0</td>\n",
              "      <td>24.0</td>\n",
              "    </tr>\n",
              "    <tr>\n",
              "      <th>E</th>\n",
              "      <td>2.0</td>\n",
              "      <td>15.0</td>\n",
              "      <td>17.0</td>\n",
              "    </tr>\n",
              "    <tr>\n",
              "      <th>F</th>\n",
              "      <td>1.0</td>\n",
              "      <td>5.0</td>\n",
              "      <td>6.0</td>\n",
              "    </tr>\n",
              "  </tbody>\n",
              "</table>\n",
              "</div>"
            ],
            "text/plain": [
              "   fevereiro  marco  Total\n",
              "C       32.0   54.0   86.0\n",
              "A       24.0   22.0   46.0\n",
              "B       16.0   18.0   34.0\n",
              "D       10.0   14.0   24.0\n",
              "E        2.0   15.0   17.0\n",
              "F        1.0    5.0    6.0"
            ]
          },
          "metadata": {
            "tags": []
          },
          "execution_count": 7
        }
      ]
    },
    {
      "cell_type": "code",
      "metadata": {
        "colab": {
          "base_uri": "https://localhost:8080/",
          "height": 232
        },
        "id": "mKdJ21i4dgZf",
        "outputId": "cca08eba-7e24-4a52-c4e8-ff210751ec13"
      },
      "source": [
        "# calcular porcentagem cumulativa\n",
        "df[\"percentcumu\"] = round(df[\"Total\"].cumsum()/df[\"Total\"].sum()*100,2)\n",
        "df"
      ],
      "execution_count": 11,
      "outputs": [
        {
          "output_type": "execute_result",
          "data": {
            "text/html": [
              "<div>\n",
              "<style scoped>\n",
              "    .dataframe tbody tr th:only-of-type {\n",
              "        vertical-align: middle;\n",
              "    }\n",
              "\n",
              "    .dataframe tbody tr th {\n",
              "        vertical-align: top;\n",
              "    }\n",
              "\n",
              "    .dataframe thead th {\n",
              "        text-align: right;\n",
              "    }\n",
              "</style>\n",
              "<table border=\"1\" class=\"dataframe\">\n",
              "  <thead>\n",
              "    <tr style=\"text-align: right;\">\n",
              "      <th></th>\n",
              "      <th>fevereiro</th>\n",
              "      <th>marco</th>\n",
              "      <th>Total</th>\n",
              "      <th>percentcumu</th>\n",
              "    </tr>\n",
              "  </thead>\n",
              "  <tbody>\n",
              "    <tr>\n",
              "      <th>C</th>\n",
              "      <td>32.0</td>\n",
              "      <td>54.0</td>\n",
              "      <td>86.0</td>\n",
              "      <td>40.38</td>\n",
              "    </tr>\n",
              "    <tr>\n",
              "      <th>A</th>\n",
              "      <td>24.0</td>\n",
              "      <td>22.0</td>\n",
              "      <td>46.0</td>\n",
              "      <td>61.97</td>\n",
              "    </tr>\n",
              "    <tr>\n",
              "      <th>B</th>\n",
              "      <td>16.0</td>\n",
              "      <td>18.0</td>\n",
              "      <td>34.0</td>\n",
              "      <td>77.93</td>\n",
              "    </tr>\n",
              "    <tr>\n",
              "      <th>D</th>\n",
              "      <td>10.0</td>\n",
              "      <td>14.0</td>\n",
              "      <td>24.0</td>\n",
              "      <td>89.20</td>\n",
              "    </tr>\n",
              "    <tr>\n",
              "      <th>E</th>\n",
              "      <td>2.0</td>\n",
              "      <td>15.0</td>\n",
              "      <td>17.0</td>\n",
              "      <td>97.18</td>\n",
              "    </tr>\n",
              "    <tr>\n",
              "      <th>F</th>\n",
              "      <td>1.0</td>\n",
              "      <td>5.0</td>\n",
              "      <td>6.0</td>\n",
              "      <td>100.00</td>\n",
              "    </tr>\n",
              "  </tbody>\n",
              "</table>\n",
              "</div>"
            ],
            "text/plain": [
              "   fevereiro  marco  Total  percentcumu\n",
              "C       32.0   54.0   86.0        40.38\n",
              "A       24.0   22.0   46.0        61.97\n",
              "B       16.0   18.0   34.0        77.93\n",
              "D       10.0   14.0   24.0        89.20\n",
              "E        2.0   15.0   17.0        97.18\n",
              "F        1.0    5.0    6.0       100.00"
            ]
          },
          "metadata": {
            "tags": []
          },
          "execution_count": 11
        }
      ]
    },
    {
      "cell_type": "markdown",
      "metadata": {
        "id": "fQ4LrHkOg--3"
      },
      "source": [
        "### 3.Gráfico de Pareto & Resposta"
      ]
    },
    {
      "cell_type": "markdown",
      "metadata": {
        "id": "dtlNaSnjfa9L"
      },
      "source": [
        "**Resposta da Questão**\n",
        "\n",
        "> Pelo gráfico abaixo, pode-se afirmar que segundo Pareto a prioridade de resolução de problemas deve ser C,A,B,D,E,F. Entretanto, a empresa deve focar nos erros de Falha do ajuste técnico(C), Erro na pintura(A) e Falha na montagem (B), tendo em vista que representam aproximadamente 80% dos erros.\n",
        "\n"
      ]
    },
    {
      "cell_type": "code",
      "metadata": {
        "colab": {
          "base_uri": "https://localhost:8080/",
          "height": 626
        },
        "id": "sdY89TTSd9cx",
        "outputId": "ecba7f2c-1470-4b29-edd2-c398c8b2380f"
      },
      "source": [
        "# setar tamanho do grafico\n",
        "fig, ax = plt.subplots(figsize=(16,10))\n",
        "\n",
        "# plot de grafico de barras\n",
        "ax.bar(df.index, df[\"Total\"])\n",
        "ax.set_title(\"Gráfico de Pareto - Erros\",fontsize=16)\n",
        "ax.set_xlabel(\"Tipo de Erro\",fontsize=12)\n",
        "ax.set_ylabel(\"Frequencia\",fontsize=12);\n",
        "\n",
        "# grafico de porcentagem \n",
        "ax2 = ax.twinx()\n",
        "ax2.plot(df.index, df[\"percentcumu\"], color=\"red\", marker=\"D\", ms=7)\n",
        "\n",
        "# linha de 80%\n",
        "ax2.axhline(80, color=\"orange\", linestyle=\"dashed\")\n",
        "ax2.yaxis.set_major_formatter(PercentFormatter())\n",
        "ax2.set_ylabel(\"% acumulada\",fontsize=12);"
      ],
      "execution_count": 22,
      "outputs": [
        {
          "output_type": "display_data",
          "data": {
            "image/png": "[encoded data removed]",
            "text/plain": [
              "<Figure size 1152x720 with 2 Axes>"
            ]
          },
          "metadata": {
            "tags": [],
            "needs_background": "light"
          }
        }
      ]
    }
  ]
}