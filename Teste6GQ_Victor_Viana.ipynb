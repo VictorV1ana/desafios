{
  "nbformat": 4,
  "nbformat_minor": 0,
  "metadata": {
    "colab": {
      "name": "Teste6GQ - Victor Viana.ipynb",
      "provenance": [],
      "toc_visible": true,
      "authorship_tag": "ABX9TyNElc2H8Pg0kvl2b4O2bbVn",
      "include_colab_link": true
    },
    "kernelspec": {
      "name": "python3",
      "display_name": "Python 3"
    },
    "language_info": {
      "name": "python"
    }
  },
  "cells": [
    {
      "cell_type": "markdown",
      "metadata": {
        "id": "view-in-github",
        "colab_type": "text"
      },
      "source": [
        "<a href=\"https://colab.research.google.com/github/VictorV1ana/desafios/blob/main/Teste6GQ_Victor_Viana.ipynb\" target=\"_parent\"><img src=\"https://colab.research.google.com/assets/colab-badge.svg\" alt=\"Open In Colab\"/></a>"
      ]
    },
    {
      "cell_type": "markdown",
      "metadata": {
        "id": "OPJlx8F1zNOT"
      },
      "source": [
        "### Teste 6 GQ - Victor Viana"
      ]
    },
    {
      "cell_type": "code",
      "metadata": {
        "id": "5XkPLWawguPP"
      },
      "source": [
        "# importando pacotes\n",
        "import pandas as pd\n",
        "import numpy as np \n",
        "import matplotlib.pyplot as plt \n",
        "import seaborn as sns \n",
        "sns.set_theme(style=\"darkgrid\")\n",
        "from scipy.stats import pearsonr\n",
        "from scipy import stats"
      ],
      "execution_count": 22,
      "outputs": []
    },
    {
      "cell_type": "code",
      "metadata": {
        "id": "4AQZfz8hhBGQ"
      },
      "source": [
        "# criar dataframe \n",
        "\n",
        "df = pd.DataFrame({ \"Vitorias\":[24,23,22,20,19,18,17,17,17,16,16,\n",
        "                                15,16,15,14,14,14,15,13,13],\n",
        "                   \"GP\":[90,75,70,78,76,77,62,73,57,68,72,\n",
        "                                69,58,66,56,65,54,55,51,54]})\n",
        "df['Time'] = ['Fluminense','Internacional','Goiais','Palmeiras',\n",
        "              'Corintians','Atletico-PR','Parana','Cruzeiro','Botafogo',\n",
        "              'Santos','Sao Paulo','Vasco','Fortaleza','Juventude','Flamengo',\n",
        "              'Figuerense','São Caetano','Ponte Preta','Coritiba','Atletico-MG']\n",
        "\n",
        "df = df[['Time','Vitorias','GP']]"
      ],
      "execution_count": 5,
      "outputs": []
    },
    {
      "cell_type": "code",
      "metadata": {
        "colab": {
          "base_uri": "https://localhost:8080/",
          "height": 662
        },
        "id": "07Yb0GcGjOmW",
        "outputId": "44ee80f4-abb8-4d6b-d69b-8c4c400745c2"
      },
      "source": [
        "# ver dados\n",
        "df"
      ],
      "execution_count": 47,
      "outputs": [
        {
          "output_type": "execute_result",
          "data": {
            "text/html": [
              "<div>\n",
              "<style scoped>\n",
              "    .dataframe tbody tr th:only-of-type {\n",
              "        vertical-align: middle;\n",
              "    }\n",
              "\n",
              "    .dataframe tbody tr th {\n",
              "        vertical-align: top;\n",
              "    }\n",
              "\n",
              "    .dataframe thead th {\n",
              "        text-align: right;\n",
              "    }\n",
              "</style>\n",
              "<table border=\"1\" class=\"dataframe\">\n",
              "  <thead>\n",
              "    <tr style=\"text-align: right;\">\n",
              "      <th></th>\n",
              "      <th>Time</th>\n",
              "      <th>Vitorias</th>\n",
              "      <th>GP</th>\n",
              "    </tr>\n",
              "  </thead>\n",
              "  <tbody>\n",
              "    <tr>\n",
              "      <th>0</th>\n",
              "      <td>Fluminense</td>\n",
              "      <td>24</td>\n",
              "      <td>90</td>\n",
              "    </tr>\n",
              "    <tr>\n",
              "      <th>1</th>\n",
              "      <td>Internacional</td>\n",
              "      <td>23</td>\n",
              "      <td>75</td>\n",
              "    </tr>\n",
              "    <tr>\n",
              "      <th>2</th>\n",
              "      <td>Goiais</td>\n",
              "      <td>22</td>\n",
              "      <td>70</td>\n",
              "    </tr>\n",
              "    <tr>\n",
              "      <th>3</th>\n",
              "      <td>Palmeiras</td>\n",
              "      <td>20</td>\n",
              "      <td>78</td>\n",
              "    </tr>\n",
              "    <tr>\n",
              "      <th>4</th>\n",
              "      <td>Corintians</td>\n",
              "      <td>19</td>\n",
              "      <td>76</td>\n",
              "    </tr>\n",
              "    <tr>\n",
              "      <th>5</th>\n",
              "      <td>Atletico-PR</td>\n",
              "      <td>18</td>\n",
              "      <td>77</td>\n",
              "    </tr>\n",
              "    <tr>\n",
              "      <th>6</th>\n",
              "      <td>Parana</td>\n",
              "      <td>17</td>\n",
              "      <td>62</td>\n",
              "    </tr>\n",
              "    <tr>\n",
              "      <th>7</th>\n",
              "      <td>Cruzeiro</td>\n",
              "      <td>17</td>\n",
              "      <td>73</td>\n",
              "    </tr>\n",
              "    <tr>\n",
              "      <th>8</th>\n",
              "      <td>Botafogo</td>\n",
              "      <td>17</td>\n",
              "      <td>57</td>\n",
              "    </tr>\n",
              "    <tr>\n",
              "      <th>9</th>\n",
              "      <td>Santos</td>\n",
              "      <td>16</td>\n",
              "      <td>68</td>\n",
              "    </tr>\n",
              "    <tr>\n",
              "      <th>10</th>\n",
              "      <td>Sao Paulo</td>\n",
              "      <td>16</td>\n",
              "      <td>72</td>\n",
              "    </tr>\n",
              "    <tr>\n",
              "      <th>11</th>\n",
              "      <td>Vasco</td>\n",
              "      <td>15</td>\n",
              "      <td>69</td>\n",
              "    </tr>\n",
              "    <tr>\n",
              "      <th>12</th>\n",
              "      <td>Fortaleza</td>\n",
              "      <td>16</td>\n",
              "      <td>58</td>\n",
              "    </tr>\n",
              "    <tr>\n",
              "      <th>13</th>\n",
              "      <td>Juventude</td>\n",
              "      <td>15</td>\n",
              "      <td>66</td>\n",
              "    </tr>\n",
              "    <tr>\n",
              "      <th>14</th>\n",
              "      <td>Flamengo</td>\n",
              "      <td>14</td>\n",
              "      <td>56</td>\n",
              "    </tr>\n",
              "    <tr>\n",
              "      <th>15</th>\n",
              "      <td>Figuerense</td>\n",
              "      <td>14</td>\n",
              "      <td>65</td>\n",
              "    </tr>\n",
              "    <tr>\n",
              "      <th>16</th>\n",
              "      <td>São Caetano</td>\n",
              "      <td>14</td>\n",
              "      <td>54</td>\n",
              "    </tr>\n",
              "    <tr>\n",
              "      <th>17</th>\n",
              "      <td>Ponte Preta</td>\n",
              "      <td>15</td>\n",
              "      <td>55</td>\n",
              "    </tr>\n",
              "    <tr>\n",
              "      <th>18</th>\n",
              "      <td>Coritiba</td>\n",
              "      <td>13</td>\n",
              "      <td>51</td>\n",
              "    </tr>\n",
              "    <tr>\n",
              "      <th>19</th>\n",
              "      <td>Atletico-MG</td>\n",
              "      <td>13</td>\n",
              "      <td>54</td>\n",
              "    </tr>\n",
              "  </tbody>\n",
              "</table>\n",
              "</div>"
            ],
            "text/plain": [
              "             Time  Vitorias  GP\n",
              "0      Fluminense        24  90\n",
              "1   Internacional        23  75\n",
              "2          Goiais        22  70\n",
              "3       Palmeiras        20  78\n",
              "4      Corintians        19  76\n",
              "5     Atletico-PR        18  77\n",
              "6          Parana        17  62\n",
              "7        Cruzeiro        17  73\n",
              "8        Botafogo        17  57\n",
              "9          Santos        16  68\n",
              "10      Sao Paulo        16  72\n",
              "11          Vasco        15  69\n",
              "12      Fortaleza        16  58\n",
              "13      Juventude        15  66\n",
              "14       Flamengo        14  56\n",
              "15     Figuerense        14  65\n",
              "16    São Caetano        14  54\n",
              "17    Ponte Preta        15  55\n",
              "18       Coritiba        13  51\n",
              "19    Atletico-MG        13  54"
            ]
          },
          "metadata": {
            "tags": []
          },
          "execution_count": 47
        }
      ]
    },
    {
      "cell_type": "code",
      "metadata": {
        "colab": {
          "base_uri": "https://localhost:8080/",
          "height": 413
        },
        "id": "I53ddakGjXq3",
        "outputId": "7e60d72a-1741-4e6c-edb9-ff44e8ead63b"
      },
      "source": [
        "# calculo de correlação \n",
        "corr, _ = pearsonr(df['GP'], df['Vitorias'])\n",
        "\n",
        "# plot scatter com regressão com intervalo de confiança .95\n",
        "fig, ax = plt.subplots(figsize=(8,6))\n",
        "plt.title(\"A correlação entre Vitórias e Gols Pró é de {:.2f}\".format(corr), fontsize=15)\n",
        "sns.regplot(x=\"Vitorias\", y=\"GP\", data=df, ci=95);"
      ],
      "execution_count": 34,
      "outputs": [
        {
          "output_type": "display_data",
          "data": {
            "image/png": "[encoded data removed]",
            "text/plain": [
              "<Figure size 576x432 with 1 Axes>"
            ]
          },
          "metadata": {
            "tags": []
          }
        }
      ]
    },
    {
      "cell_type": "code",
      "metadata": {
        "colab": {
          "base_uri": "https://localhost:8080/",
          "height": 395
        },
        "id": "tMnfbAlVlljw",
        "outputId": "bb649bb1-5b50-4a2c-faca-dc821b04fba8"
      },
      "source": [
        "# regressão linear de GP para Vitorias\n",
        "res = stats.linregress(df['Vitorias'], df['GP'])\n",
        "\n",
        "\n",
        "# plot da regressão\n",
        "fig, ax = plt.subplots(figsize=(8,6))\n",
        "plt.plot(df['Vitorias'], df['GP'], 'o', label='dados')\n",
        "plt.plot(df['Vitorias'], res.intercept + res.slope*df['Vitorias'], 'r', label='regressao')\n",
        "plt.title(\"Regressão Vitórias X GP\", fontsize=15)\n",
        "plt.legend()\n",
        "plt.show()"
      ],
      "execution_count": 46,
      "outputs": [
        {
          "output_type": "display_data",
          "data": {
            "image/png": "[encoded data removed]",
            "text/plain": [
              "<Figure size 576x432 with 1 Axes>"
            ]
          },
          "metadata": {
            "tags": []
          }
        }
      ]
    },
    {
      "cell_type": "markdown",
      "metadata": {
        "id": "i7vGsxOWylsf"
      },
      "source": [
        "* **A função abaixo calcula o número de gols necessários para se atingir o número de vitórias desejado baseando nos coeficientes calculados pela regressão linear.**"
      ]
    },
    {
      "cell_type": "code",
      "metadata": {
        "id": "tevpvDI1wju3"
      },
      "source": [
        "def prev_gp(vit):\n",
        "  '''\n",
        "  funcao que retorna o numero de gols necessários para antingir x vitorias\n",
        "  vit - numero de vitorias\n",
        "  '''\n",
        "  # y = a + bx\n",
        "  gp =  res.slope*vit + res.intercept\n",
        "  gp = np.ceil(gp)\n",
        "  return print(\"A quantidade de gols para {} vitórias é de aproximadamente {:.2f}\".format(vit,gp))"
      ],
      "execution_count": 49,
      "outputs": []
    },
    {
      "cell_type": "markdown",
      "metadata": {
        "id": "xoN-yxZ3y_m-"
      },
      "source": [
        "\n",
        "\n",
        "> **Reposta da Questão:**\n",
        "\n"
      ]
    },
    {
      "cell_type": "code",
      "metadata": {
        "colab": {
          "base_uri": "https://localhost:8080/"
        },
        "id": "lOe_fVUxxgha",
        "outputId": "462d9cbf-467a-4ca2-c39d-c9cea861ae57"
      },
      "source": [
        "prev_gp(20)"
      ],
      "execution_count": 50,
      "outputs": [
        {
          "output_type": "stream",
          "text": [
            "A quantidade de gols para 20 vitórias é de aproximadamente 75.00\n"
          ],
          "name": "stdout"
        }
      ]
    }
  ]
}