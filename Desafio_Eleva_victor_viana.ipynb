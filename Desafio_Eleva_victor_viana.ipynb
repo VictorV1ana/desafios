{
  "nbformat": 4,
  "nbformat_minor": 0,
  "metadata": {
    "colab": {
      "name": "Desafio_Eleva_victor_viana.ipynb",
      "provenance": [],
      "toc_visible": true,
      "authorship_tag": "ABX9TyMZLMv0EZQc5doumQYSwhHw",
      "include_colab_link": true
    },
    "kernelspec": {
      "name": "python3",
      "display_name": "Python 3"
    }
  },
  "cells": [
    {
      "cell_type": "markdown",
      "metadata": {
        "id": "view-in-github",
        "colab_type": "text"
      },
      "source": [
        "<a href=\"https://colab.research.google.com/github/VictorV1ana/desafios/blob/main/Desafio_Eleva_victor_viana.ipynb\" target=\"_parent\"><img src=\"https://colab.research.google.com/assets/colab-badge.svg\" alt=\"Open In Colab\"/></a>"
      ]
    },
    {
      "cell_type": "markdown",
      "metadata": {
        "id": "3SJeq93Tw2PC"
      },
      "source": [
        "## Eleva"
      ]
    },
    {
      "cell_type": "markdown",
      "metadata": {
        "id": "FpGPcJwfLkx-"
      },
      "source": [
        "### Entendendo o problema \r\n",
        "**Objetivo**\r\n",
        "\r\n",
        "Todas combinações de 3 algarismos em que:\r\n",
        " * a soma de um par de números gera um reultado que, de acordo com o dicionário, gera a palavra \"sol\". \r\n",
        "\r\n",
        "**Passo a passo**\r\n",
        "\r\n",
        "Eu decidi ir pelo inverso\r\n",
        "1. Primeiro vou descobri quais numeros de 3 dígitos posso formar com a lista de números fornecida\r\n",
        "2. Descobrir quais somas resultam em 985 porque esse é o resultado de \"sol\"\r\n",
        "3. Transformar os números em palavras baseado no dicionário\r\n",
        "\r\n",
        "**Bibliotecas usadas**\r\n",
        "* Pandas \r\n",
        "* Numpy \r\n",
        "* itertools"
      ]
    },
    {
      "cell_type": "code",
      "metadata": {
        "id": "jvPjfBFWFGzp"
      },
      "source": [
        "# importando pandas em numpy para manipulação de dados\r\n",
        "import pandas as pd\r\n",
        "import numpy as np "
      ],
      "execution_count": 69,
      "outputs": []
    },
    {
      "cell_type": "markdown",
      "metadata": {
        "id": "ezlGtCe8N3To"
      },
      "source": [
        "## 1) Descobrir os números que podemos formar "
      ]
    },
    {
      "cell_type": "code",
      "metadata": {
        "colab": {
          "base_uri": "https://localhost:8080/"
        },
        "id": "N_6KBQOTEn6k",
        "outputId": "0618bbdc-04bc-4439-8c0c-7e766a00f6c1"
      },
      "source": [
        "# importanto pacote necessário\r\n",
        "from itertools import permutations # permutations no caso é o \"arranjo\"\r\n",
        "\r\n",
        "all_combinations = set()\r\n",
        "\r\n",
        "meusnumeros = \"4658923\"  # <- os numeros forneccidos\r\n",
        "\r\n",
        "# loop para rodar a iteração\r\n",
        "for i in range(1,len(meusnumeros)+1):\r\n",
        "    for j in permutations(meusnumeros, 3):\r\n",
        "        all_combinations.add(\"\".join(j))\r\n",
        "\r\n",
        "print(all_combinations)"
      ],
      "execution_count": 70,
      "outputs": [
        {
          "output_type": "stream",
          "text": [
            "{'943', '496', '648', '584', '235', '852', '643', '395', '864', '953', '529', '482', '863', '345', '652', '349', '845', '526', '842', '982', '683', '284', '329', '692', '294', '594', '829', '423', '452', '549', '493', '324', '859', '453', '356', '358', '539', '259', '352', '954', '389', '364', '695', '862', '983', '623', '658', '659', '934', '268', '653', '382', '465', '624', '328', '485', '532', '698', '849', '685', '843', '924', '935', '629', '398', '462', '524', '368', '542', '942', '264', '895', '856', '486', '342', '635', '548', '694', '925', '392', '369', '896', '394', '634', '965', '523', '468', '938', '365', '853', '956', '926', '283', '952', '463', '894', '498', '384', '946', '469', '269', '826', '425', '246', '396', '893', '824', '348', '682', '936', '948', '596', '385', '248', '429', '825', '836', '569', '362', '326', '295', '625', '962', '923', '528', '846', '286', '426', '435', '932', '985', '546', '253', '598', '495', '928', '432', '254', '234', '639', '438', '439', '239', '538', '543', '984', '354', '492', '854', '285', '289', '593', '459', '832', '632', '298', '243', '586', '839', '564', '835', '645', '263', '693', '649', '583', '945', '958', '428', '256', '963', '689', '249', '436', '684', '293', '865', '562', '592', '568', '258', '964', '489', '325', '642', '296', '628', '458', '456', '483', '236', '245', '582', '534', '968', '386', '589', '638', '536', '892', '359', '834', '823', '986', '265', '869', '238', '346', '563', '654'}\n"
          ],
          "name": "stdout"
        }
      ]
    },
    {
      "cell_type": "code",
      "metadata": {
        "id": "pdieFC4_DrqR"
      },
      "source": [
        "# armazenar a lista em uma variável\r\n",
        "lista = list(all_combinations)"
      ],
      "execution_count": 71,
      "outputs": []
    },
    {
      "cell_type": "code",
      "metadata": {
        "colab": {
          "base_uri": "https://localhost:8080/"
        },
        "id": "EI_Cy7OSFj_W",
        "outputId": "0b578f83-9122-472b-9207-165dbb8b1425"
      },
      "source": [
        "#verifiando o tipo \r\n",
        "type(lista[0])"
      ],
      "execution_count": 72,
      "outputs": [
        {
          "output_type": "execute_result",
          "data": {
            "text/plain": [
              "str"
            ]
          },
          "metadata": {
            "tags": []
          },
          "execution_count": 72
        }
      ]
    },
    {
      "cell_type": "markdown",
      "metadata": {
        "id": "ddAl1WPfPIEV"
      },
      "source": [
        "* No caso temos uma `string` mas para fazer as somas precisavos de `ints` então vou transformar:"
      ]
    },
    {
      "cell_type": "code",
      "metadata": {
        "colab": {
          "base_uri": "https://localhost:8080/"
        },
        "id": "-qCpqYRTGS4a",
        "outputId": "fceb1afb-df8e-41f2-cb1f-a4f8f1d6728b"
      },
      "source": [
        "# trocando o formado\r\n",
        "lista = [int(i) for i in lista]\r\n",
        "\r\n",
        "# verificando novamente o tipo\r\n",
        "print(type(lista[0]))"
      ],
      "execution_count": 73,
      "outputs": [
        {
          "output_type": "stream",
          "text": [
            "<class 'int'>\n"
          ],
          "name": "stdout"
        }
      ]
    },
    {
      "cell_type": "markdown",
      "metadata": {
        "id": "BKubvyfxQF4t"
      },
      "source": [
        "## 2) Quais pares podemos formar que resultem em a + b = 985"
      ]
    },
    {
      "cell_type": "code",
      "metadata": {
        "colab": {
          "base_uri": "https://localhost:8080/"
        },
        "id": "ZKJAjeJKJESl",
        "outputId": "ec1013b5-1f76-4c9e-e68b-e5a9c54505af"
      },
      "source": [
        "# pacotes\r\n",
        "from itertools import combinations \r\n",
        "from itertools import permutations\r\n",
        "\r\n",
        "# funcao para achar as combinações\r\n",
        "def acha_par(lst, soma): \r\n",
        "\t\"\"\"\r\n",
        "  lst - uma lista com valores \r\n",
        "  soma - qual o nosso \"target\" de soma\r\n",
        "  \"\"\"\r\n",
        "\tres = []\r\n",
        "\tfor var in permutations(lst, 2): # dentro das combinações de 2 numeros percorra\r\n",
        "\t\tif var[0] + var[1] == soma: # some os valores da tupla e caso seja igual a 985\r\n",
        "\t\t\tres.append((var[0], var[1])) # pegue os valores e armazene em uma lista\r\n",
        "\t\t\r\n",
        "\treturn res \r\n",
        "\r\n",
        "# printando \r\n",
        "lst = lista\r\n",
        "target = 985\r\n",
        "print(acha_par(lst, target)) \r\n"
      ],
      "execution_count": 74,
      "outputs": [
        {
          "output_type": "stream",
          "text": [
            "[(496, 489), (643, 342), (529, 456), (526, 459), (692, 293), (423, 562), (549, 436), (493, 492), (453, 532), (356, 629), (389, 596), (623, 362), (659, 326), (532, 453), (629, 356), (462, 523), (342, 643), (392, 593), (523, 462), (396, 589), (596, 389), (362, 623), (326, 659), (546, 439), (639, 346), (439, 546), (492, 493), (593, 392), (459, 526), (689, 296), (436, 549), (293, 692), (562, 423), (489, 496), (296, 689), (456, 529), (589, 396), (346, 639)]\n"
          ],
          "name": "stdout"
        }
      ]
    },
    {
      "cell_type": "code",
      "metadata": {
        "id": "Bfj_hZBfRoVJ"
      },
      "source": [
        "# armazenando os resultados\r\n",
        "resposta = acha_par(lst, target)"
      ],
      "execution_count": 75,
      "outputs": []
    },
    {
      "cell_type": "code",
      "metadata": {
        "colab": {
          "base_uri": "https://localhost:8080/"
        },
        "id": "ucQiI92fSqdt",
        "outputId": "2a1e97b2-8e16-43ea-e286-c0c04938ef42"
      },
      "source": [
        "#verificando o tipo \r\n",
        "type(resposta)"
      ],
      "execution_count": 76,
      "outputs": [
        {
          "output_type": "execute_result",
          "data": {
            "text/plain": [
              "list"
            ]
          },
          "metadata": {
            "tags": []
          },
          "execution_count": 76
        }
      ]
    },
    {
      "cell_type": "code",
      "metadata": {
        "colab": {
          "base_uri": "https://localhost:8080/"
        },
        "id": "CZMcfGBYSYRJ",
        "outputId": "306ad409-2ecf-4242-ab11-981cbe169daa"
      },
      "source": [
        "#confirmando que é uma tupla \r\n",
        "type(resposta[0])"
      ],
      "execution_count": 77,
      "outputs": [
        {
          "output_type": "execute_result",
          "data": {
            "text/plain": [
              "tuple"
            ]
          },
          "metadata": {
            "tags": []
          },
          "execution_count": 77
        }
      ]
    },
    {
      "cell_type": "markdown",
      "metadata": {
        "id": "B3YaNrZhR2cn"
      },
      "source": [
        "## 3) Formando as palavras \r\n",
        "\r\n",
        "Para essa fase eu vou criar um `dataframe` (planilha do pandas) para facilitar a manipulação dos dados com o pandas.\r\n",
        "\r\n",
        "**Passo a passo**\r\n",
        "1. Colocar os valores em um `dataframe` \r\n",
        "2. Confirmar que eles somados dão 985 \r\n",
        "3. Criar as palavras\r\n",
        "  * separar cada algarismo do número\r\n",
        "  * traduzir para letra \r\n",
        "  * juntar as letras para formar os anagramas \r\n"
      ]
    },
    {
      "cell_type": "code",
      "metadata": {
        "colab": {
          "base_uri": "https://localhost:8080/",
          "height": 204
        },
        "id": "PkRNc-HPWwtG",
        "outputId": "cb76384c-2ba3-48fc-ed8e-33e175af588a"
      },
      "source": [
        "#criando um dataframe\r\n",
        "resp_df = pd.DataFrame(list(resposta), columns= [\"1_num\", \"2_num\"])\r\n",
        "#verificar as primeiras entradas\r\n",
        "resp_df.head()"
      ],
      "execution_count": 78,
      "outputs": [
        {
          "output_type": "execute_result",
          "data": {
            "text/html": [
              "<div>\n",
              "<style scoped>\n",
              "    .dataframe tbody tr th:only-of-type {\n",
              "        vertical-align: middle;\n",
              "    }\n",
              "\n",
              "    .dataframe tbody tr th {\n",
              "        vertical-align: top;\n",
              "    }\n",
              "\n",
              "    .dataframe thead th {\n",
              "        text-align: right;\n",
              "    }\n",
              "</style>\n",
              "<table border=\"1\" class=\"dataframe\">\n",
              "  <thead>\n",
              "    <tr style=\"text-align: right;\">\n",
              "      <th></th>\n",
              "      <th>1_num</th>\n",
              "      <th>2_num</th>\n",
              "    </tr>\n",
              "  </thead>\n",
              "  <tbody>\n",
              "    <tr>\n",
              "      <th>0</th>\n",
              "      <td>496</td>\n",
              "      <td>489</td>\n",
              "    </tr>\n",
              "    <tr>\n",
              "      <th>1</th>\n",
              "      <td>643</td>\n",
              "      <td>342</td>\n",
              "    </tr>\n",
              "    <tr>\n",
              "      <th>2</th>\n",
              "      <td>529</td>\n",
              "      <td>456</td>\n",
              "    </tr>\n",
              "    <tr>\n",
              "      <th>3</th>\n",
              "      <td>526</td>\n",
              "      <td>459</td>\n",
              "    </tr>\n",
              "    <tr>\n",
              "      <th>4</th>\n",
              "      <td>692</td>\n",
              "      <td>293</td>\n",
              "    </tr>\n",
              "  </tbody>\n",
              "</table>\n",
              "</div>"
            ],
            "text/plain": [
              "   1_num  2_num\n",
              "0    496    489\n",
              "1    643    342\n",
              "2    529    456\n",
              "3    526    459\n",
              "4    692    293"
            ]
          },
          "metadata": {
            "tags": []
          },
          "execution_count": 78
        }
      ]
    },
    {
      "cell_type": "code",
      "metadata": {
        "colab": {
          "base_uri": "https://localhost:8080/",
          "height": 204
        },
        "id": "EjSpmOqUG8Bh",
        "outputId": "ab45cc1d-d745-4567-c6bc-e7ff0949dcde"
      },
      "source": [
        "# criar uma coluna com a soma para verificar se é 985\r\n",
        "resp_df[\"soma\"] = resp_df[\"1_num\"]+ resp_df[\"2_num\"]\r\n",
        "\r\n",
        "#verificar resultado \r\n",
        "resp_df.head()"
      ],
      "execution_count": 79,
      "outputs": [
        {
          "output_type": "execute_result",
          "data": {
            "text/html": [
              "<div>\n",
              "<style scoped>\n",
              "    .dataframe tbody tr th:only-of-type {\n",
              "        vertical-align: middle;\n",
              "    }\n",
              "\n",
              "    .dataframe tbody tr th {\n",
              "        vertical-align: top;\n",
              "    }\n",
              "\n",
              "    .dataframe thead th {\n",
              "        text-align: right;\n",
              "    }\n",
              "</style>\n",
              "<table border=\"1\" class=\"dataframe\">\n",
              "  <thead>\n",
              "    <tr style=\"text-align: right;\">\n",
              "      <th></th>\n",
              "      <th>1_num</th>\n",
              "      <th>2_num</th>\n",
              "      <th>soma</th>\n",
              "    </tr>\n",
              "  </thead>\n",
              "  <tbody>\n",
              "    <tr>\n",
              "      <th>0</th>\n",
              "      <td>496</td>\n",
              "      <td>489</td>\n",
              "      <td>985</td>\n",
              "    </tr>\n",
              "    <tr>\n",
              "      <th>1</th>\n",
              "      <td>643</td>\n",
              "      <td>342</td>\n",
              "      <td>985</td>\n",
              "    </tr>\n",
              "    <tr>\n",
              "      <th>2</th>\n",
              "      <td>529</td>\n",
              "      <td>456</td>\n",
              "      <td>985</td>\n",
              "    </tr>\n",
              "    <tr>\n",
              "      <th>3</th>\n",
              "      <td>526</td>\n",
              "      <td>459</td>\n",
              "      <td>985</td>\n",
              "    </tr>\n",
              "    <tr>\n",
              "      <th>4</th>\n",
              "      <td>692</td>\n",
              "      <td>293</td>\n",
              "      <td>985</td>\n",
              "    </tr>\n",
              "  </tbody>\n",
              "</table>\n",
              "</div>"
            ],
            "text/plain": [
              "   1_num  2_num  soma\n",
              "0    496    489   985\n",
              "1    643    342   985\n",
              "2    529    456   985\n",
              "3    526    459   985\n",
              "4    692    293   985"
            ]
          },
          "metadata": {
            "tags": []
          },
          "execution_count": 79
        }
      ]
    },
    {
      "cell_type": "markdown",
      "metadata": {
        "id": "zJBhhc-lTJ44"
      },
      "source": [
        "* Para não verificar uma por uma vou pedir os valores únicos. Caso seja somente 985, os dados fazem sentido"
      ]
    },
    {
      "cell_type": "code",
      "metadata": {
        "colab": {
          "base_uri": "https://localhost:8080/"
        },
        "id": "9kd2UhdGHZrW",
        "outputId": "a835aef6-0bd9-4152-b0c2-4e1452b89888"
      },
      "source": [
        "# teste de unico\r\n",
        "resp_df['soma'].unique()"
      ],
      "execution_count": 80,
      "outputs": [
        {
          "output_type": "execute_result",
          "data": {
            "text/plain": [
              "array([985])"
            ]
          },
          "metadata": {
            "tags": []
          },
          "execution_count": 80
        }
      ]
    },
    {
      "cell_type": "markdown",
      "metadata": {
        "id": "5SaWI7HKUQaq"
      },
      "source": [
        "* Para facilitar a manipulação de dados vou transformar em texto"
      ]
    },
    {
      "cell_type": "code",
      "metadata": {
        "id": "VI0lHoC1RLrt"
      },
      "source": [
        "# transformando em str\r\n",
        "resp_df['1_num']=resp_df['1_num'].apply(str)\r\n",
        "resp_df['2_num']=resp_df['2_num'].apply(str)"
      ],
      "execution_count": 81,
      "outputs": []
    },
    {
      "cell_type": "code",
      "metadata": {
        "colab": {
          "base_uri": "https://localhost:8080/",
          "height": 204
        },
        "id": "h70vHhd5VBYq",
        "outputId": "c49f8db4-8b4e-46f8-a106-487c851cbf3e"
      },
      "source": [
        "#verificando novamente o df \r\n",
        "resp_df.head()"
      ],
      "execution_count": 82,
      "outputs": [
        {
          "output_type": "execute_result",
          "data": {
            "text/html": [
              "<div>\n",
              "<style scoped>\n",
              "    .dataframe tbody tr th:only-of-type {\n",
              "        vertical-align: middle;\n",
              "    }\n",
              "\n",
              "    .dataframe tbody tr th {\n",
              "        vertical-align: top;\n",
              "    }\n",
              "\n",
              "    .dataframe thead th {\n",
              "        text-align: right;\n",
              "    }\n",
              "</style>\n",
              "<table border=\"1\" class=\"dataframe\">\n",
              "  <thead>\n",
              "    <tr style=\"text-align: right;\">\n",
              "      <th></th>\n",
              "      <th>1_num</th>\n",
              "      <th>2_num</th>\n",
              "      <th>soma</th>\n",
              "    </tr>\n",
              "  </thead>\n",
              "  <tbody>\n",
              "    <tr>\n",
              "      <th>0</th>\n",
              "      <td>496</td>\n",
              "      <td>489</td>\n",
              "      <td>985</td>\n",
              "    </tr>\n",
              "    <tr>\n",
              "      <th>1</th>\n",
              "      <td>643</td>\n",
              "      <td>342</td>\n",
              "      <td>985</td>\n",
              "    </tr>\n",
              "    <tr>\n",
              "      <th>2</th>\n",
              "      <td>529</td>\n",
              "      <td>456</td>\n",
              "      <td>985</td>\n",
              "    </tr>\n",
              "    <tr>\n",
              "      <th>3</th>\n",
              "      <td>526</td>\n",
              "      <td>459</td>\n",
              "      <td>985</td>\n",
              "    </tr>\n",
              "    <tr>\n",
              "      <th>4</th>\n",
              "      <td>692</td>\n",
              "      <td>293</td>\n",
              "      <td>985</td>\n",
              "    </tr>\n",
              "  </tbody>\n",
              "</table>\n",
              "</div>"
            ],
            "text/plain": [
              "  1_num 2_num  soma\n",
              "0   496   489   985\n",
              "1   643   342   985\n",
              "2   529   456   985\n",
              "3   526   459   985\n",
              "4   692   293   985"
            ]
          },
          "metadata": {
            "tags": []
          },
          "execution_count": 82
        }
      ]
    },
    {
      "cell_type": "markdown",
      "metadata": {
        "id": "AORKo6C-Uxqa"
      },
      "source": [
        "Quero criar uma tabela que tenha todas a letras individualmente em uma coluna, para isso vou manipular a coluna `1_num` e `2_num` "
      ]
    },
    {
      "cell_type": "code",
      "metadata": {
        "id": "UHjTeDSOZREu"
      },
      "source": [
        "# retirando os numeros da primeio anagrama\r\n",
        "resp_df['1_letra'] = resp_df['1_num'].astype(str).str[0]\r\n",
        "resp_df['2_letra'] = resp_df['1_num'].astype(str).str[1]\r\n",
        "resp_df['3_letra'] = resp_df['1_num'].astype(str).str[2]\r\n",
        "\r\n",
        "# retirando os numeros do segundo anagrama\r\n",
        "resp_df['4_letra'] = resp_df['2_num'].astype(str).str[0]\r\n",
        "resp_df['5_letra'] = resp_df['2_num'].astype(str).str[1]\r\n",
        "resp_df['6_letra'] = resp_df['2_num'].astype(str).str[2]"
      ],
      "execution_count": 83,
      "outputs": []
    },
    {
      "cell_type": "code",
      "metadata": {
        "colab": {
          "base_uri": "https://localhost:8080/",
          "height": 204
        },
        "id": "hs8c662XZoRR",
        "outputId": "08e1b03c-2517-4566-cc5f-b75f67e781d9"
      },
      "source": [
        "# novo dataframe\r\n",
        "resp_df.head()"
      ],
      "execution_count": 84,
      "outputs": [
        {
          "output_type": "execute_result",
          "data": {
            "text/html": [
              "<div>\n",
              "<style scoped>\n",
              "    .dataframe tbody tr th:only-of-type {\n",
              "        vertical-align: middle;\n",
              "    }\n",
              "\n",
              "    .dataframe tbody tr th {\n",
              "        vertical-align: top;\n",
              "    }\n",
              "\n",
              "    .dataframe thead th {\n",
              "        text-align: right;\n",
              "    }\n",
              "</style>\n",
              "<table border=\"1\" class=\"dataframe\">\n",
              "  <thead>\n",
              "    <tr style=\"text-align: right;\">\n",
              "      <th></th>\n",
              "      <th>1_num</th>\n",
              "      <th>2_num</th>\n",
              "      <th>soma</th>\n",
              "      <th>1_letra</th>\n",
              "      <th>2_letra</th>\n",
              "      <th>3_letra</th>\n",
              "      <th>4_letra</th>\n",
              "      <th>5_letra</th>\n",
              "      <th>6_letra</th>\n",
              "    </tr>\n",
              "  </thead>\n",
              "  <tbody>\n",
              "    <tr>\n",
              "      <th>0</th>\n",
              "      <td>496</td>\n",
              "      <td>489</td>\n",
              "      <td>985</td>\n",
              "      <td>4</td>\n",
              "      <td>9</td>\n",
              "      <td>6</td>\n",
              "      <td>4</td>\n",
              "      <td>8</td>\n",
              "      <td>9</td>\n",
              "    </tr>\n",
              "    <tr>\n",
              "      <th>1</th>\n",
              "      <td>643</td>\n",
              "      <td>342</td>\n",
              "      <td>985</td>\n",
              "      <td>6</td>\n",
              "      <td>4</td>\n",
              "      <td>3</td>\n",
              "      <td>3</td>\n",
              "      <td>4</td>\n",
              "      <td>2</td>\n",
              "    </tr>\n",
              "    <tr>\n",
              "      <th>2</th>\n",
              "      <td>529</td>\n",
              "      <td>456</td>\n",
              "      <td>985</td>\n",
              "      <td>5</td>\n",
              "      <td>2</td>\n",
              "      <td>9</td>\n",
              "      <td>4</td>\n",
              "      <td>5</td>\n",
              "      <td>6</td>\n",
              "    </tr>\n",
              "    <tr>\n",
              "      <th>3</th>\n",
              "      <td>526</td>\n",
              "      <td>459</td>\n",
              "      <td>985</td>\n",
              "      <td>5</td>\n",
              "      <td>2</td>\n",
              "      <td>6</td>\n",
              "      <td>4</td>\n",
              "      <td>5</td>\n",
              "      <td>9</td>\n",
              "    </tr>\n",
              "    <tr>\n",
              "      <th>4</th>\n",
              "      <td>692</td>\n",
              "      <td>293</td>\n",
              "      <td>985</td>\n",
              "      <td>6</td>\n",
              "      <td>9</td>\n",
              "      <td>2</td>\n",
              "      <td>2</td>\n",
              "      <td>9</td>\n",
              "      <td>3</td>\n",
              "    </tr>\n",
              "  </tbody>\n",
              "</table>\n",
              "</div>"
            ],
            "text/plain": [
              "  1_num 2_num  soma 1_letra 2_letra 3_letra 4_letra 5_letra 6_letra\n",
              "0   496   489   985       4       9       6       4       8       9\n",
              "1   643   342   985       6       4       3       3       4       2\n",
              "2   529   456   985       5       2       9       4       5       6\n",
              "3   526   459   985       5       2       6       4       5       9\n",
              "4   692   293   985       6       9       2       2       9       3"
            ]
          },
          "metadata": {
            "tags": []
          },
          "execution_count": 84
        }
      ]
    },
    {
      "cell_type": "markdown",
      "metadata": {
        "id": "xocjt1JwVZt6"
      },
      "source": [
        "* Agora só precisamos fazer as equivalencias com base no dicionário fornecido "
      ]
    },
    {
      "cell_type": "code",
      "metadata": {
        "id": "I5S2r_GEcBB-"
      },
      "source": [
        "# criando o dicionário\r\n",
        "di = {\"4\": \"c\", \"6\": \"e\", \"5\":\"l\",\"8\":\"o\",\"9\":\"s\",\"2\":\"u\",\"3\":\"z\"}"
      ],
      "execution_count": 85,
      "outputs": []
    },
    {
      "cell_type": "code",
      "metadata": {
        "id": "1xpg2Uz6bOyw"
      },
      "source": [
        "# substituindo numero por letra\r\n",
        "resp_df['1_letra'] = resp_df['1_letra'].map(di) \r\n",
        "resp_df['2_letra'] = resp_df['2_letra'].map(di) \r\n",
        "resp_df['3_letra'] = resp_df['3_letra'].map(di) \r\n",
        "resp_df['4_letra'] = resp_df['4_letra'].map(di) \r\n",
        "resp_df['5_letra'] = resp_df['5_letra'].map(di) \r\n",
        "resp_df['6_letra'] = resp_df['6_letra'].map(di) "
      ],
      "execution_count": 86,
      "outputs": []
    },
    {
      "cell_type": "code",
      "metadata": {
        "colab": {
          "base_uri": "https://localhost:8080/",
          "height": 204
        },
        "id": "G_BzZy05dDSu",
        "outputId": "dd0ecb7d-2d17-43c2-dc4f-8e201703d8cb"
      },
      "source": [
        "resp_df.head()"
      ],
      "execution_count": 87,
      "outputs": [
        {
          "output_type": "execute_result",
          "data": {
            "text/html": [
              "<div>\n",
              "<style scoped>\n",
              "    .dataframe tbody tr th:only-of-type {\n",
              "        vertical-align: middle;\n",
              "    }\n",
              "\n",
              "    .dataframe tbody tr th {\n",
              "        vertical-align: top;\n",
              "    }\n",
              "\n",
              "    .dataframe thead th {\n",
              "        text-align: right;\n",
              "    }\n",
              "</style>\n",
              "<table border=\"1\" class=\"dataframe\">\n",
              "  <thead>\n",
              "    <tr style=\"text-align: right;\">\n",
              "      <th></th>\n",
              "      <th>1_num</th>\n",
              "      <th>2_num</th>\n",
              "      <th>soma</th>\n",
              "      <th>1_letra</th>\n",
              "      <th>2_letra</th>\n",
              "      <th>3_letra</th>\n",
              "      <th>4_letra</th>\n",
              "      <th>5_letra</th>\n",
              "      <th>6_letra</th>\n",
              "    </tr>\n",
              "  </thead>\n",
              "  <tbody>\n",
              "    <tr>\n",
              "      <th>0</th>\n",
              "      <td>496</td>\n",
              "      <td>489</td>\n",
              "      <td>985</td>\n",
              "      <td>c</td>\n",
              "      <td>s</td>\n",
              "      <td>e</td>\n",
              "      <td>c</td>\n",
              "      <td>o</td>\n",
              "      <td>s</td>\n",
              "    </tr>\n",
              "    <tr>\n",
              "      <th>1</th>\n",
              "      <td>643</td>\n",
              "      <td>342</td>\n",
              "      <td>985</td>\n",
              "      <td>e</td>\n",
              "      <td>c</td>\n",
              "      <td>z</td>\n",
              "      <td>z</td>\n",
              "      <td>c</td>\n",
              "      <td>u</td>\n",
              "    </tr>\n",
              "    <tr>\n",
              "      <th>2</th>\n",
              "      <td>529</td>\n",
              "      <td>456</td>\n",
              "      <td>985</td>\n",
              "      <td>l</td>\n",
              "      <td>u</td>\n",
              "      <td>s</td>\n",
              "      <td>c</td>\n",
              "      <td>l</td>\n",
              "      <td>e</td>\n",
              "    </tr>\n",
              "    <tr>\n",
              "      <th>3</th>\n",
              "      <td>526</td>\n",
              "      <td>459</td>\n",
              "      <td>985</td>\n",
              "      <td>l</td>\n",
              "      <td>u</td>\n",
              "      <td>e</td>\n",
              "      <td>c</td>\n",
              "      <td>l</td>\n",
              "      <td>s</td>\n",
              "    </tr>\n",
              "    <tr>\n",
              "      <th>4</th>\n",
              "      <td>692</td>\n",
              "      <td>293</td>\n",
              "      <td>985</td>\n",
              "      <td>e</td>\n",
              "      <td>s</td>\n",
              "      <td>u</td>\n",
              "      <td>u</td>\n",
              "      <td>s</td>\n",
              "      <td>z</td>\n",
              "    </tr>\n",
              "  </tbody>\n",
              "</table>\n",
              "</div>"
            ],
            "text/plain": [
              "  1_num 2_num  soma 1_letra 2_letra 3_letra 4_letra 5_letra 6_letra\n",
              "0   496   489   985       c       s       e       c       o       s\n",
              "1   643   342   985       e       c       z       z       c       u\n",
              "2   529   456   985       l       u       s       c       l       e\n",
              "3   526   459   985       l       u       e       c       l       s\n",
              "4   692   293   985       e       s       u       u       s       z"
            ]
          },
          "metadata": {
            "tags": []
          },
          "execution_count": 87
        }
      ]
    },
    {
      "cell_type": "markdown",
      "metadata": {
        "id": "zoYD7NkIVtIM"
      },
      "source": [
        "* Vamos criar uma coluna chamada `palavra1` (concatenar letras 1 a 3) e `palavra2` (concatenar letras 1 a 3)"
      ]
    },
    {
      "cell_type": "code",
      "metadata": {
        "id": "VvnhyBuRFRNf"
      },
      "source": [
        "#concatenando letras para formar anagramas\r\n",
        "resp_df[\"palavra1\"] = resp_df[\"1_letra\"] + resp_df[\"2_letra\"] + resp_df[\"3_letra\"]\r\n",
        "resp_df[\"palavra2\"] = resp_df[\"4_letra\"] + resp_df[\"5_letra\"] + resp_df[\"6_letra\"]"
      ],
      "execution_count": 88,
      "outputs": []
    },
    {
      "cell_type": "code",
      "metadata": {
        "colab": {
          "base_uri": "https://localhost:8080/",
          "height": 204
        },
        "id": "npoMWFN8FpNO",
        "outputId": "8dde371e-02c5-4ba0-d1dd-3be403e05234"
      },
      "source": [
        "resp_df.head()"
      ],
      "execution_count": 89,
      "outputs": [
        {
          "output_type": "execute_result",
          "data": {
            "text/html": [
              "<div>\n",
              "<style scoped>\n",
              "    .dataframe tbody tr th:only-of-type {\n",
              "        vertical-align: middle;\n",
              "    }\n",
              "\n",
              "    .dataframe tbody tr th {\n",
              "        vertical-align: top;\n",
              "    }\n",
              "\n",
              "    .dataframe thead th {\n",
              "        text-align: right;\n",
              "    }\n",
              "</style>\n",
              "<table border=\"1\" class=\"dataframe\">\n",
              "  <thead>\n",
              "    <tr style=\"text-align: right;\">\n",
              "      <th></th>\n",
              "      <th>1_num</th>\n",
              "      <th>2_num</th>\n",
              "      <th>soma</th>\n",
              "      <th>1_letra</th>\n",
              "      <th>2_letra</th>\n",
              "      <th>3_letra</th>\n",
              "      <th>4_letra</th>\n",
              "      <th>5_letra</th>\n",
              "      <th>6_letra</th>\n",
              "      <th>palavra1</th>\n",
              "      <th>palavra2</th>\n",
              "    </tr>\n",
              "  </thead>\n",
              "  <tbody>\n",
              "    <tr>\n",
              "      <th>0</th>\n",
              "      <td>496</td>\n",
              "      <td>489</td>\n",
              "      <td>985</td>\n",
              "      <td>c</td>\n",
              "      <td>s</td>\n",
              "      <td>e</td>\n",
              "      <td>c</td>\n",
              "      <td>o</td>\n",
              "      <td>s</td>\n",
              "      <td>cse</td>\n",
              "      <td>cos</td>\n",
              "    </tr>\n",
              "    <tr>\n",
              "      <th>1</th>\n",
              "      <td>643</td>\n",
              "      <td>342</td>\n",
              "      <td>985</td>\n",
              "      <td>e</td>\n",
              "      <td>c</td>\n",
              "      <td>z</td>\n",
              "      <td>z</td>\n",
              "      <td>c</td>\n",
              "      <td>u</td>\n",
              "      <td>ecz</td>\n",
              "      <td>zcu</td>\n",
              "    </tr>\n",
              "    <tr>\n",
              "      <th>2</th>\n",
              "      <td>529</td>\n",
              "      <td>456</td>\n",
              "      <td>985</td>\n",
              "      <td>l</td>\n",
              "      <td>u</td>\n",
              "      <td>s</td>\n",
              "      <td>c</td>\n",
              "      <td>l</td>\n",
              "      <td>e</td>\n",
              "      <td>lus</td>\n",
              "      <td>cle</td>\n",
              "    </tr>\n",
              "    <tr>\n",
              "      <th>3</th>\n",
              "      <td>526</td>\n",
              "      <td>459</td>\n",
              "      <td>985</td>\n",
              "      <td>l</td>\n",
              "      <td>u</td>\n",
              "      <td>e</td>\n",
              "      <td>c</td>\n",
              "      <td>l</td>\n",
              "      <td>s</td>\n",
              "      <td>lue</td>\n",
              "      <td>cls</td>\n",
              "    </tr>\n",
              "    <tr>\n",
              "      <th>4</th>\n",
              "      <td>692</td>\n",
              "      <td>293</td>\n",
              "      <td>985</td>\n",
              "      <td>e</td>\n",
              "      <td>s</td>\n",
              "      <td>u</td>\n",
              "      <td>u</td>\n",
              "      <td>s</td>\n",
              "      <td>z</td>\n",
              "      <td>esu</td>\n",
              "      <td>usz</td>\n",
              "    </tr>\n",
              "  </tbody>\n",
              "</table>\n",
              "</div>"
            ],
            "text/plain": [
              "  1_num 2_num  soma 1_letra 2_letra  ... 4_letra 5_letra 6_letra palavra1 palavra2\n",
              "0   496   489   985       c       s  ...       c       o       s      cse      cos\n",
              "1   643   342   985       e       c  ...       z       c       u      ecz      zcu\n",
              "2   529   456   985       l       u  ...       c       l       e      lus      cle\n",
              "3   526   459   985       l       u  ...       c       l       s      lue      cls\n",
              "4   692   293   985       e       s  ...       u       s       z      esu      usz\n",
              "\n",
              "[5 rows x 11 columns]"
            ]
          },
          "metadata": {
            "tags": []
          },
          "execution_count": 89
        }
      ]
    },
    {
      "cell_type": "markdown",
      "metadata": {
        "id": "pO04tipbWEeq"
      },
      "source": [
        "* Resolvemos o problema "
      ]
    },
    {
      "cell_type": "markdown",
      "metadata": {
        "id": "B0tqh754WOk8"
      },
      "source": [
        "**Para garantir a integridade dos dados vamos:**\r\n",
        "1. fazer uma cópia da base\r\n",
        "2. criar um código único e dropar duplicadas para não termos valores repetidos\r\n",
        "3. importar os dados para um excel"
      ]
    },
    {
      "cell_type": "code",
      "metadata": {
        "id": "Li5CQLMoGC-H"
      },
      "source": [
        "#copia do df\r\n",
        "df = resp_df.copy()"
      ],
      "execution_count": 90,
      "outputs": []
    },
    {
      "cell_type": "code",
      "metadata": {
        "colab": {
          "base_uri": "https://localhost:8080/",
          "height": 204
        },
        "id": "w6A9yNORH4Z7",
        "outputId": "58ec79fb-ea56-410a-c774-06530670c1d9"
      },
      "source": [
        "df.head()"
      ],
      "execution_count": 91,
      "outputs": [
        {
          "output_type": "execute_result",
          "data": {
            "text/html": [
              "<div>\n",
              "<style scoped>\n",
              "    .dataframe tbody tr th:only-of-type {\n",
              "        vertical-align: middle;\n",
              "    }\n",
              "\n",
              "    .dataframe tbody tr th {\n",
              "        vertical-align: top;\n",
              "    }\n",
              "\n",
              "    .dataframe thead th {\n",
              "        text-align: right;\n",
              "    }\n",
              "</style>\n",
              "<table border=\"1\" class=\"dataframe\">\n",
              "  <thead>\n",
              "    <tr style=\"text-align: right;\">\n",
              "      <th></th>\n",
              "      <th>1_num</th>\n",
              "      <th>2_num</th>\n",
              "      <th>soma</th>\n",
              "      <th>1_letra</th>\n",
              "      <th>2_letra</th>\n",
              "      <th>3_letra</th>\n",
              "      <th>4_letra</th>\n",
              "      <th>5_letra</th>\n",
              "      <th>6_letra</th>\n",
              "      <th>palavra1</th>\n",
              "      <th>palavra2</th>\n",
              "    </tr>\n",
              "  </thead>\n",
              "  <tbody>\n",
              "    <tr>\n",
              "      <th>0</th>\n",
              "      <td>496</td>\n",
              "      <td>489</td>\n",
              "      <td>985</td>\n",
              "      <td>c</td>\n",
              "      <td>s</td>\n",
              "      <td>e</td>\n",
              "      <td>c</td>\n",
              "      <td>o</td>\n",
              "      <td>s</td>\n",
              "      <td>cse</td>\n",
              "      <td>cos</td>\n",
              "    </tr>\n",
              "    <tr>\n",
              "      <th>1</th>\n",
              "      <td>643</td>\n",
              "      <td>342</td>\n",
              "      <td>985</td>\n",
              "      <td>e</td>\n",
              "      <td>c</td>\n",
              "      <td>z</td>\n",
              "      <td>z</td>\n",
              "      <td>c</td>\n",
              "      <td>u</td>\n",
              "      <td>ecz</td>\n",
              "      <td>zcu</td>\n",
              "    </tr>\n",
              "    <tr>\n",
              "      <th>2</th>\n",
              "      <td>529</td>\n",
              "      <td>456</td>\n",
              "      <td>985</td>\n",
              "      <td>l</td>\n",
              "      <td>u</td>\n",
              "      <td>s</td>\n",
              "      <td>c</td>\n",
              "      <td>l</td>\n",
              "      <td>e</td>\n",
              "      <td>lus</td>\n",
              "      <td>cle</td>\n",
              "    </tr>\n",
              "    <tr>\n",
              "      <th>3</th>\n",
              "      <td>526</td>\n",
              "      <td>459</td>\n",
              "      <td>985</td>\n",
              "      <td>l</td>\n",
              "      <td>u</td>\n",
              "      <td>e</td>\n",
              "      <td>c</td>\n",
              "      <td>l</td>\n",
              "      <td>s</td>\n",
              "      <td>lue</td>\n",
              "      <td>cls</td>\n",
              "    </tr>\n",
              "    <tr>\n",
              "      <th>4</th>\n",
              "      <td>692</td>\n",
              "      <td>293</td>\n",
              "      <td>985</td>\n",
              "      <td>e</td>\n",
              "      <td>s</td>\n",
              "      <td>u</td>\n",
              "      <td>u</td>\n",
              "      <td>s</td>\n",
              "      <td>z</td>\n",
              "      <td>esu</td>\n",
              "      <td>usz</td>\n",
              "    </tr>\n",
              "  </tbody>\n",
              "</table>\n",
              "</div>"
            ],
            "text/plain": [
              "  1_num 2_num  soma 1_letra 2_letra  ... 4_letra 5_letra 6_letra palavra1 palavra2\n",
              "0   496   489   985       c       s  ...       c       o       s      cse      cos\n",
              "1   643   342   985       e       c  ...       z       c       u      ecz      zcu\n",
              "2   529   456   985       l       u  ...       c       l       e      lus      cle\n",
              "3   526   459   985       l       u  ...       c       l       s      lue      cls\n",
              "4   692   293   985       e       s  ...       u       s       z      esu      usz\n",
              "\n",
              "[5 rows x 11 columns]"
            ]
          },
          "metadata": {
            "tags": []
          },
          "execution_count": 91
        }
      ]
    },
    {
      "cell_type": "code",
      "metadata": {
        "id": "XJk-p-VNH5Vj"
      },
      "source": [
        "# criando código único\r\n",
        "df[\"SKU\"] = df[\"1_num\"] + df[\"2_num\"]"
      ],
      "execution_count": 92,
      "outputs": []
    },
    {
      "cell_type": "code",
      "metadata": {
        "colab": {
          "base_uri": "https://localhost:8080/"
        },
        "id": "pjD0odrsItu6",
        "outputId": "73a8bbcc-6f28-4c9f-b151-6eab81e99c4d"
      },
      "source": [
        "#contando valores \r\n",
        "df[\"SKU\"].value_counts().sum()"
      ],
      "execution_count": 93,
      "outputs": [
        {
          "output_type": "execute_result",
          "data": {
            "text/plain": [
              "38"
            ]
          },
          "metadata": {
            "tags": []
          },
          "execution_count": 93
        }
      ]
    },
    {
      "cell_type": "code",
      "metadata": {
        "id": "8DLQTiHFW0pR"
      },
      "source": [
        "# dropando duplicados caso existam\r\n",
        "df.drop_duplicates(subset=['SKU'], keep=False);"
      ],
      "execution_count": 94,
      "outputs": []
    },
    {
      "cell_type": "code",
      "metadata": {
        "id": "kH4mFb_OJGNQ"
      },
      "source": [
        "# tranformar em excel\r\n",
        "df.to_excel(\"respostas_victor_viana.xlsx\")  "
      ],
      "execution_count": 95,
      "outputs": []
    }
  ]
}