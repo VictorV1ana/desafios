{
  "nbformat": 4,
  "nbformat_minor": 0,
  "metadata": {
    "colab": {
      "name": "GQ7-VictorViana.ipynb",
      "provenance": [],
      "toc_visible": true,
      "authorship_tag": "ABX9TyPFVpeULnxSxvb6VYdKwVM7",
      "include_colab_link": true
    },
    "kernelspec": {
      "name": "python3",
      "display_name": "Python 3"
    },
    "language_info": {
      "name": "python"
    }
  },
  "cells": [
    {
      "cell_type": "markdown",
      "metadata": {
        "id": "view-in-github",
        "colab_type": "text"
      },
      "source": [
        "<a href=\"https://colab.research.google.com/github/VictorV1ana/desafios/blob/main/GQ7_VictorViana.ipynb\" target=\"_parent\"><img src=\"https://colab.research.google.com/assets/colab-badge.svg\" alt=\"Open In Colab\"/></a>"
      ]
    },
    {
      "cell_type": "markdown",
      "metadata": {
        "id": "tziYDxLgRXBy"
      },
      "source": [
        "## Teste 7 - Gestão da Qualidade\n",
        "### Victor Viana "
      ]
    },
    {
      "cell_type": "code",
      "metadata": {
        "id": "FQIBfqDtTf1v"
      },
      "source": [
        "import pandas as pd \n",
        "import seaborn as sns \n",
        "import matplotlib.pyplot as plt\n",
        "import numpy as np \n",
        "sns.set_theme(style=\"darkgrid\")"
      ],
      "execution_count": 55,
      "outputs": []
    },
    {
      "cell_type": "code",
      "metadata": {
        "id": "bmbrMU9Kzdgd"
      },
      "source": [
        "# construindo a base dos dados\n",
        "df = pd.DataFrame({\"CG34\":[2.43, 3.45, 2.07, 2.68, 2.72, 2.90, 0.45, 2.51, 2.26] ,\n",
        "                   \"QT56\":[1.92, 2.51, 2.28, 2.15, 1.25, 1.45, 2.79, 1.88, 1.56], \n",
        "                   \"DCS35\":[0.58, 1.95,1.66,2.12,1.98,1.10,1.78,2.23,1.45]})\n",
        "df[\"cachorros\"] = [1,2,3,4,5,6,7,8,9]"
      ],
      "execution_count": 56,
      "outputs": []
    },
    {
      "cell_type": "code",
      "metadata": {
        "colab": {
          "base_uri": "https://localhost:8080/",
          "height": 202
        },
        "id": "wJIjeohZ1r3e",
        "outputId": "d186176d-386e-4825-cf74-87e91756ff87"
      },
      "source": [
        "#vizualizar o dataset \n",
        "df.head()"
      ],
      "execution_count": 57,
      "outputs": [
        {
          "output_type": "execute_result",
          "data": {
            "text/html": [
              "<div>\n",
              "<style scoped>\n",
              "    .dataframe tbody tr th:only-of-type {\n",
              "        vertical-align: middle;\n",
              "    }\n",
              "\n",
              "    .dataframe tbody tr th {\n",
              "        vertical-align: top;\n",
              "    }\n",
              "\n",
              "    .dataframe thead th {\n",
              "        text-align: right;\n",
              "    }\n",
              "</style>\n",
              "<table border=\"1\" class=\"dataframe\">\n",
              "  <thead>\n",
              "    <tr style=\"text-align: right;\">\n",
              "      <th></th>\n",
              "      <th>CG34</th>\n",
              "      <th>QT56</th>\n",
              "      <th>DCS35</th>\n",
              "      <th>cachorros</th>\n",
              "    </tr>\n",
              "  </thead>\n",
              "  <tbody>\n",
              "    <tr>\n",
              "      <th>0</th>\n",
              "      <td>2.43</td>\n",
              "      <td>1.92</td>\n",
              "      <td>0.58</td>\n",
              "      <td>1</td>\n",
              "    </tr>\n",
              "    <tr>\n",
              "      <th>1</th>\n",
              "      <td>3.45</td>\n",
              "      <td>2.51</td>\n",
              "      <td>1.95</td>\n",
              "      <td>2</td>\n",
              "    </tr>\n",
              "    <tr>\n",
              "      <th>2</th>\n",
              "      <td>2.07</td>\n",
              "      <td>2.28</td>\n",
              "      <td>1.66</td>\n",
              "      <td>3</td>\n",
              "    </tr>\n",
              "    <tr>\n",
              "      <th>3</th>\n",
              "      <td>2.68</td>\n",
              "      <td>2.15</td>\n",
              "      <td>2.12</td>\n",
              "      <td>4</td>\n",
              "    </tr>\n",
              "    <tr>\n",
              "      <th>4</th>\n",
              "      <td>2.72</td>\n",
              "      <td>1.25</td>\n",
              "      <td>1.98</td>\n",
              "      <td>5</td>\n",
              "    </tr>\n",
              "  </tbody>\n",
              "</table>\n",
              "</div>"
            ],
            "text/plain": [
              "   CG34  QT56  DCS35  cachorros\n",
              "0  2.43  1.92   0.58          1\n",
              "1  3.45  2.51   1.95          2\n",
              "2  2.07  2.28   1.66          3\n",
              "3  2.68  2.15   2.12          4\n",
              "4  2.72  1.25   1.98          5"
            ]
          },
          "metadata": {},
          "execution_count": 57
        }
      ]
    },
    {
      "cell_type": "code",
      "metadata": {
        "colab": {
          "base_uri": "https://localhost:8080/",
          "height": 312
        },
        "id": "mN47SXb511l5",
        "outputId": "640096ff-36c1-4f2f-a851-905b8f484b08"
      },
      "source": [
        "#plotar resumo estatistico\n",
        "print('-----Resumo Estatístico das rações-----')\n",
        "df[['CG34','QT56','DCS35']].describe()"
      ],
      "execution_count": 58,
      "outputs": [
        {
          "output_type": "stream",
          "text": [
            "-----Resumo Estatístico das rações-----\n"
          ],
          "name": "stdout"
        },
        {
          "output_type": "execute_result",
          "data": {
            "text/html": [
              "<div>\n",
              "<style scoped>\n",
              "    .dataframe tbody tr th:only-of-type {\n",
              "        vertical-align: middle;\n",
              "    }\n",
              "\n",
              "    .dataframe tbody tr th {\n",
              "        vertical-align: top;\n",
              "    }\n",
              "\n",
              "    .dataframe thead th {\n",
              "        text-align: right;\n",
              "    }\n",
              "</style>\n",
              "<table border=\"1\" class=\"dataframe\">\n",
              "  <thead>\n",
              "    <tr style=\"text-align: right;\">\n",
              "      <th></th>\n",
              "      <th>CG34</th>\n",
              "      <th>QT56</th>\n",
              "      <th>DCS35</th>\n",
              "    </tr>\n",
              "  </thead>\n",
              "  <tbody>\n",
              "    <tr>\n",
              "      <th>count</th>\n",
              "      <td>9.000000</td>\n",
              "      <td>9.000000</td>\n",
              "      <td>9.000000</td>\n",
              "    </tr>\n",
              "    <tr>\n",
              "      <th>mean</th>\n",
              "      <td>2.385556</td>\n",
              "      <td>1.976667</td>\n",
              "      <td>1.650000</td>\n",
              "    </tr>\n",
              "    <tr>\n",
              "      <th>std</th>\n",
              "      <td>0.827302</td>\n",
              "      <td>0.507395</td>\n",
              "      <td>0.531578</td>\n",
              "    </tr>\n",
              "    <tr>\n",
              "      <th>min</th>\n",
              "      <td>0.450000</td>\n",
              "      <td>1.250000</td>\n",
              "      <td>0.580000</td>\n",
              "    </tr>\n",
              "    <tr>\n",
              "      <th>25%</th>\n",
              "      <td>2.260000</td>\n",
              "      <td>1.560000</td>\n",
              "      <td>1.450000</td>\n",
              "    </tr>\n",
              "    <tr>\n",
              "      <th>50%</th>\n",
              "      <td>2.510000</td>\n",
              "      <td>1.920000</td>\n",
              "      <td>1.780000</td>\n",
              "    </tr>\n",
              "    <tr>\n",
              "      <th>75%</th>\n",
              "      <td>2.720000</td>\n",
              "      <td>2.280000</td>\n",
              "      <td>1.980000</td>\n",
              "    </tr>\n",
              "    <tr>\n",
              "      <th>max</th>\n",
              "      <td>3.450000</td>\n",
              "      <td>2.790000</td>\n",
              "      <td>2.230000</td>\n",
              "    </tr>\n",
              "  </tbody>\n",
              "</table>\n",
              "</div>"
            ],
            "text/plain": [
              "           CG34      QT56     DCS35\n",
              "count  9.000000  9.000000  9.000000\n",
              "mean   2.385556  1.976667  1.650000\n",
              "std    0.827302  0.507395  0.531578\n",
              "min    0.450000  1.250000  0.580000\n",
              "25%    2.260000  1.560000  1.450000\n",
              "50%    2.510000  1.920000  1.780000\n",
              "75%    2.720000  2.280000  1.980000\n",
              "max    3.450000  2.790000  2.230000"
            ]
          },
          "metadata": {},
          "execution_count": 58
        }
      ]
    },
    {
      "cell_type": "markdown",
      "metadata": {
        "id": "hwNejQ1yPEVf"
      },
      "source": [
        "* No primeiro momento a ração CG34 é a que tem maior média e mediana. Entretanto, podem ter outilers influenciando. assim vamos vaerificar a presença deles:"
      ]
    },
    {
      "cell_type": "code",
      "metadata": {
        "colab": {
          "base_uri": "https://localhost:8080/",
          "height": 284
        },
        "id": "m7Eidj-n15ui",
        "outputId": "7e5dbc33-9313-4fce-cfc4-c9a95feb41cf"
      },
      "source": [
        "#plotar boxplot\n",
        "plt.title(\"Boxplot do ganho de peso por alimento\",fontsize=14)\n",
        "sns.boxplot(data=df[[\"CG34\",\"QT56\",\"DCS35\"]]);"
      ],
      "execution_count": 59,
      "outputs": [
        {
          "output_type": "display_data",
          "data": {
            "image/png": "[encoded data removed]",
            "text/plain": [
              "<Figure size 432x288 with 1 Axes>"
            ]
          },
          "metadata": {}
        }
      ]
    },
    {
      "cell_type": "markdown",
      "metadata": {
        "id": "b_idp4gAPslf"
      },
      "source": [
        "* Segundo o método do IQR usado pelo gráfico, existem outilers. Nesse sentido, vamos tratar para fazer uma análise menos enviesada. O método ultilizado será a distancia interquartil. Caso a variável tenha valor maior que o limite superior, substituiremos pelo limite superior e o equipalente para o limite inferior."
      ]
    },
    {
      "cell_type": "code",
      "metadata": {
        "id": "WvP7jGcr2mCq"
      },
      "source": [
        "def tratar_outiler(df,columns):\n",
        "  '''\n",
        "  funcao retorna um dataset sem outliers \n",
        "  substituindo eles pelo limite superior e inferior\n",
        "  df - data frame original \n",
        "  columns - colunas que devem ser analisadas'''\n",
        "\n",
        "  df_aux = df\n",
        "  for i in columns:\n",
        "    Q1, Q3 = np.percentile(df_aux[i] , [25,75])\n",
        "    IQR = Q3 - Q1\n",
        "    lower_range = Q1 - (1.5 * IQR)\n",
        "    upper_range = Q3 + (1.5 * IQR)\n",
        "    df_aux[i] = df_aux[i].clip(lower_range,upper_range)\n",
        "  return df_aux"
      ],
      "execution_count": 60,
      "outputs": []
    },
    {
      "cell_type": "code",
      "metadata": {
        "id": "shX7p_ts-eTm"
      },
      "source": [
        "# aplicar a função que retira outliers\n",
        "df = tratar_outiler(df,columns=[\"CG34\",\"QT56\",\"DCS35\"])"
      ],
      "execution_count": 61,
      "outputs": []
    },
    {
      "cell_type": "code",
      "metadata": {
        "colab": {
          "base_uri": "https://localhost:8080/",
          "height": 284
        },
        "id": "owAyQyvoDiiM",
        "outputId": "f28f7203-d4e1-465e-aa89-223c7a48485f"
      },
      "source": [
        "#plotar boxplot\n",
        "plt.title(\"Boxplot do ganho de peso por alimento\",fontsize=14)\n",
        "sns.boxplot(data=df[[\"CG34\",\"QT56\",\"DCS35\"]]);"
      ],
      "execution_count": 62,
      "outputs": [
        {
          "output_type": "display_data",
          "data": {
            "image/png": "[encoded data removed]",
            "text/plain": [
              "<Figure size 432x288 with 1 Axes>"
            ]
          },
          "metadata": {}
        }
      ]
    },
    {
      "cell_type": "code",
      "metadata": {
        "colab": {
          "base_uri": "https://localhost:8080/",
          "height": 382
        },
        "id": "Em6-MXm0L5VJ",
        "outputId": "44bcbca9-d586-4aae-db7f-2e04778494e2"
      },
      "source": [
        "#plotar histograma\n",
        "dados_hist = df[['CG34','QT56','DCS35']].melt()\n",
        "sns.displot(dados_hist , x=\"value\", hue=\"variable\", kind=\"kde\", fill = True)\n",
        "plt.title(\"Histograma do ganho de peso por alimento\",fontsize=14); "
      ],
      "execution_count": 63,
      "outputs": [
        {
          "output_type": "display_data",
          "data": {
            "image/png": "[encoded data removed]",
            "text/plain": [
              "<Figure size 436.6x360 with 1 Axes>"
            ]
          },
          "metadata": {}
        }
      ]
    },
    {
      "cell_type": "code",
      "metadata": {
        "colab": {
          "base_uri": "https://localhost:8080/",
          "height": 312
        },
        "id": "C5suuEqUEYPY",
        "outputId": "161607c6-cb4c-414a-d02a-c939de7aaa2f"
      },
      "source": [
        "#plotar resumo estatistico\n",
        "print('-----Resumo Estatístico das rações-----')\n",
        "df[['CG34','QT56','DCS35']].describe()"
      ],
      "execution_count": 64,
      "outputs": [
        {
          "output_type": "stream",
          "text": [
            "-----Resumo Estatístico das rações-----\n"
          ],
          "name": "stdout"
        },
        {
          "output_type": "execute_result",
          "data": {
            "text/html": [
              "<div>\n",
              "<style scoped>\n",
              "    .dataframe tbody tr th:only-of-type {\n",
              "        vertical-align: middle;\n",
              "    }\n",
              "\n",
              "    .dataframe tbody tr th {\n",
              "        vertical-align: top;\n",
              "    }\n",
              "\n",
              "    .dataframe thead th {\n",
              "        text-align: right;\n",
              "    }\n",
              "</style>\n",
              "<table border=\"1\" class=\"dataframe\">\n",
              "  <thead>\n",
              "    <tr style=\"text-align: right;\">\n",
              "      <th></th>\n",
              "      <th>CG34</th>\n",
              "      <th>QT56</th>\n",
              "      <th>DCS35</th>\n",
              "    </tr>\n",
              "  </thead>\n",
              "  <tbody>\n",
              "    <tr>\n",
              "      <th>count</th>\n",
              "      <td>9.000000</td>\n",
              "      <td>9.000000</td>\n",
              "      <td>9.000000</td>\n",
              "    </tr>\n",
              "    <tr>\n",
              "      <th>mean</th>\n",
              "      <td>2.505556</td>\n",
              "      <td>1.976667</td>\n",
              "      <td>1.658333</td>\n",
              "    </tr>\n",
              "    <tr>\n",
              "      <th>std</th>\n",
              "      <td>0.522138</td>\n",
              "      <td>0.507395</td>\n",
              "      <td>0.512969</td>\n",
              "    </tr>\n",
              "    <tr>\n",
              "      <th>min</th>\n",
              "      <td>1.570000</td>\n",
              "      <td>1.250000</td>\n",
              "      <td>0.655000</td>\n",
              "    </tr>\n",
              "    <tr>\n",
              "      <th>25%</th>\n",
              "      <td>2.260000</td>\n",
              "      <td>1.560000</td>\n",
              "      <td>1.450000</td>\n",
              "    </tr>\n",
              "    <tr>\n",
              "      <th>50%</th>\n",
              "      <td>2.510000</td>\n",
              "      <td>1.920000</td>\n",
              "      <td>1.780000</td>\n",
              "    </tr>\n",
              "    <tr>\n",
              "      <th>75%</th>\n",
              "      <td>2.720000</td>\n",
              "      <td>2.280000</td>\n",
              "      <td>1.980000</td>\n",
              "    </tr>\n",
              "    <tr>\n",
              "      <th>max</th>\n",
              "      <td>3.410000</td>\n",
              "      <td>2.790000</td>\n",
              "      <td>2.230000</td>\n",
              "    </tr>\n",
              "  </tbody>\n",
              "</table>\n",
              "</div>"
            ],
            "text/plain": [
              "           CG34      QT56     DCS35\n",
              "count  9.000000  9.000000  9.000000\n",
              "mean   2.505556  1.976667  1.658333\n",
              "std    0.522138  0.507395  0.512969\n",
              "min    1.570000  1.250000  0.655000\n",
              "25%    2.260000  1.560000  1.450000\n",
              "50%    2.510000  1.920000  1.780000\n",
              "75%    2.720000  2.280000  1.980000\n",
              "max    3.410000  2.790000  2.230000"
            ]
          },
          "metadata": {},
          "execution_count": 64
        }
      ]
    },
    {
      "cell_type": "markdown",
      "metadata": {
        "id": "ooaOpqZhQqve"
      },
      "source": [
        "**Resposta da Questão:**\n",
        "\n",
        "\n",
        "> Para efeito de hipótese e análise, considera-se que o melhor alimento é aquele que mais aumenta o peso do animal. Dessa forma, fica evidente que a ração CG34 foi a que teve maior gnaho de peso. Tanto a interpretação da distribuição com o histograma quanto a do boxplot indicam isso. As medidas de estatística descritiva também apontam para a CG34. Tanto média quanto mediana são maiores com um desvio padrão (std) muito similar a dos outros tipos. \n",
        "\n"
      ]
    }
  ]
}